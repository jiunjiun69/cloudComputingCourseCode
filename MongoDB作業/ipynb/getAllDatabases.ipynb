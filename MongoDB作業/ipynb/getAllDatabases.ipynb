{
 "cells": [
  {
   "cell_type": "code",
   "execution_count": 1,
   "id": "e396320c",
   "metadata": {},
   "outputs": [],
   "source": [
    "from pymongo import MongoClient"
   ]
  },
  {
   "cell_type": "markdown",
   "id": "57bc04fb",
   "metadata": {},
   "source": [
    "# get list of all databases"
   ]
  },
  {
   "cell_type": "code",
   "execution_count": 2,
   "id": "2b45b7f4",
   "metadata": {},
   "outputs": [],
   "source": [
    "MONGO_HOST = ''\n",
    "# MONGO_DB = imgName\n",
    "# MONGO_COLLETION = 'imgUrl'"
   ]
  },
  {
   "cell_type": "code",
   "execution_count": 3,
   "id": "f6e06f94",
   "metadata": {},
   "outputs": [],
   "source": [
    "# DB_Link = MongoClient(MONGO_HOST, 8080, username = '', password = '')\n",
    "# db = DB_Link[MONGO_DB]\n",
    "# collection = db[MONGO_COLLETION]"
   ]
  },
  {
   "cell_type": "code",
   "execution_count": 4,
   "id": "9da79d69",
   "metadata": {},
   "outputs": [],
   "source": [
    "dbs = MongoClient(MONGO_HOST, 8080, username = '', password = '').list_database_names()"
   ]
  },
  {
   "cell_type": "code",
   "execution_count": 5,
   "id": "8e6b50dc",
   "metadata": {},
   "outputs": [],
   "source": [
    "dbs.remove('admin')\n",
    "dbs.remove('config')\n",
    "dbs.remove('local')"
   ]
  },
  {
   "cell_type": "code",
   "execution_count": 6,
   "id": "43e8b9fc",
   "metadata": {},
   "outputs": [
    {
     "data": {
      "text/plain": [
       "['早安圖']"
      ]
     },
     "execution_count": 6,
     "metadata": {},
     "output_type": "execute_result"
    }
   ],
   "source": [
    "dbs"
   ]
  },
  {
   "cell_type": "code",
   "execution_count": 7,
   "id": "673dbd77",
   "metadata": {},
   "outputs": [
    {
     "data": {
      "text/plain": [
       "1"
      ]
     },
     "execution_count": 7,
     "metadata": {},
     "output_type": "execute_result"
    }
   ],
   "source": [
    "len(dbs)"
   ]
  },
  {
   "cell_type": "code",
   "execution_count": 8,
   "id": "8ad4c0cd",
   "metadata": {},
   "outputs": [
    {
     "name": "stdout",
     "output_type": "stream",
     "text": [
      "圖片資料有 : ['早安圖']\n",
      "總共的個數為 : 1\n",
      "\n"
     ]
    }
   ],
   "source": [
    "print('圖片資料有 : {}\\n總共的個數為 : {}\\n'.format(dbs, len(dbs)))"
   ]
  },
  {
   "cell_type": "code",
   "execution_count": null,
   "id": "11438893",
   "metadata": {},
   "outputs": [],
   "source": []
  },
  {
   "cell_type": "markdown",
   "id": "7f41b241",
   "metadata": {},
   "source": [
    "# get databases total number"
   ]
  },
  {
   "cell_type": "code",
   "execution_count": 9,
   "id": "752a2f6e",
   "metadata": {},
   "outputs": [],
   "source": [
    "imgName = \"aaaa\"\n",
    "MONGO_HOST = ''"
   ]
  },
  {
   "cell_type": "code",
   "execution_count": 10,
   "id": "dcf6905e",
   "metadata": {},
   "outputs": [
    {
     "data": {
      "text/plain": [
       "0"
      ]
     },
     "execution_count": 10,
     "metadata": {},
     "output_type": "execute_result"
    }
   ],
   "source": [
    "MongoClient(MONGO_HOST, 8080, username = '', password = '')[imgName]['imgUrl'].estimated_document_count()"
   ]
  },
  {
   "cell_type": "code",
   "execution_count": null,
   "id": "0ccd91f4",
   "metadata": {},
   "outputs": [],
   "source": []
  },
  {
   "cell_type": "markdown",
   "id": "3f6dfc98",
   "metadata": {},
   "source": [
    "# drop atabase"
   ]
  },
  {
   "cell_type": "code",
   "execution_count": 11,
   "id": "0605acc1",
   "metadata": {},
   "outputs": [],
   "source": [
    "# imgName = \"aaaa\"\n",
    "# MONGO_HOST = ''"
   ]
  },
  {
   "cell_type": "code",
   "execution_count": 12,
   "id": "d32c0b75",
   "metadata": {},
   "outputs": [],
   "source": [
    "# MongoClient(MONGO_HOST, 8080).drop_database(imgName)"
   ]
  },
  {
   "cell_type": "code",
   "execution_count": null,
   "id": "cce1d317",
   "metadata": {},
   "outputs": [],
   "source": []
  },
  {
   "cell_type": "markdown",
   "id": "a4e8734e",
   "metadata": {},
   "source": [
    "# get databases all data"
   ]
  },
  {
   "cell_type": "code",
   "execution_count": 13,
   "id": "d5aab1ff",
   "metadata": {},
   "outputs": [],
   "source": [
    "imgName = \"早安圖\""
   ]
  },
  {
   "cell_type": "code",
   "execution_count": 14,
   "id": "9a59b1ac",
   "metadata": {},
   "outputs": [],
   "source": [
    "collection = MongoClient(MONGO_HOST, 8080, username = '', password = '')[imgName]['imgUrl']"
   ]
  },
  {
   "cell_type": "code",
   "execution_count": 15,
   "id": "89debecd",
   "metadata": {},
   "outputs": [
    {
     "data": {
      "text/plain": [
       "[{'_id': ObjectId('619fce1543d45b9f6c7075ea'),\n",
       "  'index': 0,\n",
       "  'url': 'https://i.pinimg.com/originals/f0/b1/14/f0b1141284f30661abed07cc5a8a6706.jpg'},\n",
       " {'_id': ObjectId('619fce1643d45b9f6c7075eb'),\n",
       "  'index': 1,\n",
       "  'url': 'https://i.pinimg.com/736x/0c/f6/3e/0cf63e3a7f1085145fa2306d722f9514.jpg'},\n",
       " {'_id': ObjectId('619fce1643d45b9f6c7075ec'),\n",
       "  'index': 2,\n",
       "  'url': 'https://lookaside.fbsbx.com/lookaside/crawler/media/?media_id=4159889920726770'},\n",
       " {'_id': ObjectId('619fce1643d45b9f6c7075ed'),\n",
       "  'index': 3,\n",
       "  'url': 'https://i.pinimg.com/550x/2b/36/6e/2b366e09c3244facec3ef143722bf2c3.jpg'},\n",
       " {'_id': ObjectId('619fce1643d45b9f6c7075ee'),\n",
       "  'index': 4,\n",
       "  'url': 'https://i.epochtimes.com/assets/uploads/2018/04/Image_6ec071e.jpg'},\n",
       " {'_id': ObjectId('619fce1643d45b9f6c7075ef'),\n",
       "  'index': 5,\n",
       "  'url': 'https://p7.itc.cn/images01/20210625/4cee2ec8633045b5a4752686e1743b4a.jpeg'},\n",
       " {'_id': ObjectId('619fce1643d45b9f6c7075f0'),\n",
       "  'index': 6,\n",
       "  'url': 'https://i04piccdn.sogoucdn.com/23aac9b57bc53607'},\n",
       " {'_id': ObjectId('619fce1643d45b9f6c7075f1'),\n",
       "  'index': 7,\n",
       "  'url': 'https://s167.daydaynews.cc/?url=http%3A%2F%2Finews.gtimg.com%2Fnewsapp_bt%2F0%2F12904020509%2F1000'},\n",
       " {'_id': ObjectId('619fce1643d45b9f6c7075f2'),\n",
       "  'index': 8,\n",
       "  'url': 'https://i.pinimg.com/originals/d3/cb/58/d3cb580f0605c9522a9f203371c34fb7.jpg'},\n",
       " {'_id': ObjectId('619fce1643d45b9f6c7075f3'),\n",
       "  'index': 9,\n",
       "  'url': 'https://nimg.ws.126.net/?url=http%3A%2F%2Fdingyue.ws.126.net%2F2020%2F0903%2F0fbeb134j00qg27jo001vc000u000p3m.jpg&thumbnail=650x2147483647&quality=80&type=jpg'},\n",
       " {'_id': ObjectId('619fce1643d45b9f6c7075f4'),\n",
       "  'index': 10,\n",
       "  'url': 'https://lookaside.fbsbx.com/lookaside/crawler/media/?media_id=2328097063906074'},\n",
       " {'_id': ObjectId('619fce1643d45b9f6c7075f5'),\n",
       "  'index': 11,\n",
       "  'url': 'https://i1.kknews.cc/SIG=4v1org/ctp-vzntr/512n914n076q46849p0o21sn054548r0.jpg'},\n",
       " {'_id': ObjectId('619fce1643d45b9f6c7075f6'),\n",
       "  'index': 12,\n",
       "  'url': 'https://p5.itc.cn/images01/20210822/78168b3d57bd499f9f7f138768ee2189.jpeg'},\n",
       " {'_id': ObjectId('619fce1643d45b9f6c7075f7'),\n",
       "  'index': 13,\n",
       "  'url': 'https://goodmorningimages.imagens-debomdia.com/wp-content/uploads/2021/09/%E5%85%8D%E8%B4%B9%E4%B8%8B%E8%BD%BD%E6%97%A9%E5%AE%89%E5%9B%BE%E7%89%87%E5%9B%BE%E7%89%87%E7%85%A7%E7%89%87.jpg'},\n",
       " {'_id': ObjectId('619fce1643d45b9f6c7075f8'),\n",
       "  'index': 14,\n",
       "  'url': 'https://y.qichejiashi.com/tupian/upload/146477205.jpg'},\n",
       " {'_id': ObjectId('619fce1643d45b9f6c7075f9'),\n",
       "  'index': 15,\n",
       "  'url': 'https://pic1.zhimg.com/80/v2-07d26c4bb4c64069c03ee97694ecc96c_1440w.jpg'},\n",
       " {'_id': ObjectId('619fce1643d45b9f6c7075fa'),\n",
       "  'index': 16,\n",
       "  'url': 'http://p26.toutiaoimg.com/large/pgc-image/1c561b3533b8460cbc6f96231d60edb4?from=detail&index=0'},\n",
       " {'_id': ObjectId('619fce1643d45b9f6c7075fb'),\n",
       "  'index': 17,\n",
       "  'url': 'https://image.winudf.com/v2/image1/cGhlbml4LmFwcC5nb29kbW9ybmluZ2NoX3NjcmVlbl8wXzE1NTYwNjQ0MzZfMDM5/screen-0.jpg?fakeurl=1&type=.jpg'},\n",
       " {'_id': ObjectId('619fce1643d45b9f6c7075fc'),\n",
       "  'index': 18,\n",
       "  'url': 'https://i1.read01.com/SIG=1m6dg5p/304e7639434563774f39.jpg'},\n",
       " {'_id': ObjectId('619fce1643d45b9f6c7075fd'),\n",
       "  'index': 19,\n",
       "  'url': 'https://i.pwp.cc/allimg/210406/4-210406111A0.jpg'},\n",
       " {'_id': ObjectId('619fce1643d45b9f6c7075fe'),\n",
       "  'index': 20,\n",
       "  'url': 'https://images.apktouch.com/img/h09/h78/img_localize_dd81e177e773dbe1ded0c41489c99753_599x800_480x641.png'},\n",
       " {'_id': ObjectId('619fce1643d45b9f6c7075ff'),\n",
       "  'index': 21,\n",
       "  'url': 'https://i04piccdn.sogoucdn.com/d2b72e53455b51c1'},\n",
       " {'_id': ObjectId('619fce1643d45b9f6c707600'),\n",
       "  'index': 22,\n",
       "  'url': 'https://s.yimg.com/uu/api/res/1.2/8hlc2PP1uxUfytnS8cImYw--~B/aD01MzM7dz04MDA7YXBwaWQ9eXRhY2h5b24-/https://media.zenfs.com/zh-tw/mirrormedia.mg/6754bbea9b777205fc7c8b0597f83fbb'},\n",
       " {'_id': ObjectId('619fce1643d45b9f6c707601'),\n",
       "  'index': 23,\n",
       "  'url': 'https://nimg.ws.126.net/?url=http%3A%2F%2Fdingyue.ws.126.net%2F2021%2F0509%2F38af6f6bj00qst515000zc000hs00lhc.jpg&thumbnail=650x2147483647&quality=80&type=jpg'},\n",
       " {'_id': ObjectId('619fce1643d45b9f6c707602'),\n",
       "  'index': 24,\n",
       "  'url': 'http://nimg.ws.126.net/?url=http://dingyue.ws.126.net/2021/0613/b4c2a5bbj00qunb8q001hc000iw00otc.jpg&thumbnail=650x2147483647&quality=80&type=jpg'},\n",
       " {'_id': ObjectId('619fce1643d45b9f6c707603'),\n",
       "  'index': 25,\n",
       "  'url': 'https://i0.wp.com/5b0988e595225.cdn.sohucs.com/images/20190511/095beea7b3be46978e60697e4ede1b7c.jpeg'},\n",
       " {'_id': ObjectId('619fce1643d45b9f6c707604'),\n",
       "  'index': 26,\n",
       "  'url': 'http://p1.pstatp.com/large/pgc-image/6ce904f30bb14a63afcedc7115965a0b'},\n",
       " {'_id': ObjectId('619fce1643d45b9f6c707605'),\n",
       "  'index': 27,\n",
       "  'url': 'https://image.16pic.com/00/81/78/16pic_8178935_s.jpg?imageView2/0/format/png'},\n",
       " {'_id': ObjectId('619fce1643d45b9f6c707606'),\n",
       "  'index': 28,\n",
       "  'url': 'https://p0.itc.cn/images01/20210330/21fc73da93ca496a917e3f57f70047bd.jpeg'},\n",
       " {'_id': ObjectId('619fce1643d45b9f6c707607'),\n",
       "  'index': 29,\n",
       "  'url': 'https://image.tubangzhu.com/updata-new/201905/23/4174d11e3c9de72349b2.png'},\n",
       " {'_id': ObjectId('619fce1643d45b9f6c707608'),\n",
       "  'index': 30,\n",
       "  'url': 'http://nimg.ws.126.net/?url=http://dingyue.ws.126.net/2021/0412/25c99c85j00qrfdxu001lc000hs00myg.jpg&thumbnail=650x2147483647&quality=80&type=jpg'},\n",
       " {'_id': ObjectId('619fce1643d45b9f6c707609'),\n",
       "  'index': 31,\n",
       "  'url': 'https://mmbiz.qpic.cn/mmbiz_jpg/MFiaPIiagDluo1kfESFERwCGTU4cVWcIVzbJnv5DKFZdfxlA1CxNpicicENc88TrytVsjBJ7guIIETnJaV7BsibWP7A/0?wx_fmt=jpeg'},\n",
       " {'_id': ObjectId('619fce1643d45b9f6c70760a'),\n",
       "  'index': 32,\n",
       "  'url': 'https://tu.vziti.com/zaoimg/9/p9863_2.jpg'},\n",
       " {'_id': ObjectId('619fce1643d45b9f6c70760b'),\n",
       "  'index': 33,\n",
       "  'url': 'https://i.pinimg.com/originals/ab/a2/9f/aba29f228ea1375e6f935a8b7b56912c.jpg'},\n",
       " {'_id': ObjectId('619fce1643d45b9f6c70760c'),\n",
       "  'index': 34,\n",
       "  'url': 'https://s.yimg.com/uu/api/res/1.2/Y3oirQZpOGk6N9j6wXiCjQ--~B/aD01NDA7dz01Mzc7YXBwaWQ9eXRhY2h5b24-/https://media.zenfs.com/zh-tw/setn.com.tw/b7f424111c316a7cb80d73708c0927ac'},\n",
       " {'_id': ObjectId('619fce1643d45b9f6c70760d'),\n",
       "  'index': 35,\n",
       "  'url': 'http://pic.616pic.com/bg_w1180/00/00/20/TGwfOIHAXL.jpg'},\n",
       " {'_id': ObjectId('619fce1643d45b9f6c70760e'),\n",
       "  'index': 36,\n",
       "  'url': 'https://lookaside.fbsbx.com/lookaside/crawler/media/?media_id=142139807516316'},\n",
       " {'_id': ObjectId('619fce1643d45b9f6c70760f'),\n",
       "  'index': 37,\n",
       "  'url': 'https://photo.16pic.com/00/93/41/16pic_9341008_b.jpg'},\n",
       " {'_id': ObjectId('619fce1643d45b9f6c707610'),\n",
       "  'index': 38,\n",
       "  'url': 'https://img.365tnews.com/uploads/allimg/08/18/14/14549.jpeg'},\n",
       " {'_id': ObjectId('619fce1643d45b9f6c707611'),\n",
       "  'index': 39,\n",
       "  'url': 'https://i3.jueshifan.com/205a28/7c047b82/21537dc44beead438e7f19.jpg'},\n",
       " {'_id': ObjectId('619fce1643d45b9f6c707612'),\n",
       "  'index': 40,\n",
       "  'url': 'https://qq.yh31.com/tp/zw/202110201137440292.jpg'},\n",
       " {'_id': ObjectId('619fce1643d45b9f6c707613'),\n",
       "  'index': 41,\n",
       "  'url': 'https://y.qichejiashi.com/tupian/upload/31996190.jpg'},\n",
       " {'_id': ObjectId('619fce1643d45b9f6c707614'),\n",
       "  'index': 42,\n",
       "  'url': 'https://www.fangjial.com/uploads/allimg/200226/0K2135X7-1.jpg'},\n",
       " {'_id': ObjectId('619fce1643d45b9f6c707615'),\n",
       "  'index': 43,\n",
       "  'url': 'https://p1-tt.byteimg.com/origin/pgc-image/f391b428b06e4ae5a560c13d1235a177'},\n",
       " {'_id': ObjectId('619fce1643d45b9f6c707616'),\n",
       "  'index': 44,\n",
       "  'url': 'https://sticker.fpg.com.tw/sticker/daily-illustration/daily-illustration-153.jpg'},\n",
       " {'_id': ObjectId('619fce1643d45b9f6c707617'),\n",
       "  'index': 45,\n",
       "  'url': 'https://img.tusij.com/ips_templ_preview/2021-05-28/0d/0ddab3b0-a46b-477d-ba7d-603538deb0cf.jpg%21w390?auth_key=1661299200-0-0-6f77a53fd566f2ec97c781f8d12dbecc'},\n",
       " {'_id': ObjectId('619fce1643d45b9f6c707618'),\n",
       "  'index': 46,\n",
       "  'url': 'https://c.tenor.com/1bhDlDyiYoMAAAAC/%E6%97%A9%E5%AE%89-%E6%97%A9%E4%B8%8A%E5%A5%BD.gif'},\n",
       " {'_id': ObjectId('619fce1643d45b9f6c707619'),\n",
       "  'index': 47,\n",
       "  'url': 'https://image.winudf.com/v2/image1/Y29tLmdvcHViLm1vcm5pbmdfc2NyZWVuXzNfMTU1NjE2MTMwNl8wMjA/screen-3.jpg?fakeurl=1&type=.jpg'},\n",
       " {'_id': ObjectId('619fce1643d45b9f6c70761a'),\n",
       "  'index': 48,\n",
       "  'url': 'https://wx2.sinaimg.cn/large/6c9debf0ly4gruih013xnj20zk0t07dh.jpg'},\n",
       " {'_id': ObjectId('619fce1643d45b9f6c70761b'),\n",
       "  'index': 49,\n",
       "  'url': 'https://cdn.steemitimages.com/DQmbPQAGcEQKEDMEKT7sqS9hWqbZW2FASw7k2NV3gsUFMdv/photo6215419939557320797.jpg'},\n",
       " {'_id': ObjectId('619fce1643d45b9f6c70761c'),\n",
       "  'index': 50,\n",
       "  'url': 'https://pica.nidbox.net/67/1578961717_062c4e40_67.jpg'},\n",
       " {'_id': ObjectId('619fce1643d45b9f6c70761d'),\n",
       "  'index': 51,\n",
       "  'url': 'https://img95.699pic.com/desgin_photo/40180/7291_list.jpg'},\n",
       " {'_id': ObjectId('619fce1643d45b9f6c70761e'),\n",
       "  'index': 52,\n",
       "  'url': 'https://i1.kknews.cc/SIG=18tkgrs/ctp-vzntr/2o4sq3n927224s6pn6r57872045665ns.jpg'},\n",
       " {'_id': ObjectId('619fce1643d45b9f6c70761f'),\n",
       "  'index': 53,\n",
       "  'url': 'https://i.ytimg.com/vi/enWzNaqMunM/maxresdefault.jpg'},\n",
       " {'_id': ObjectId('619fce1643d45b9f6c707620'),\n",
       "  'index': 54,\n",
       "  'url': 'https://pic2.zhimg.com/v2-a85ddb0e39b99f4b7af092df26399bc0_1440w.jpg?source=172ae18b'},\n",
       " {'_id': ObjectId('619fce1643d45b9f6c707621'),\n",
       "  'index': 55,\n",
       "  'url': 'https://pic.pimg.tw/watermoon333/1632402928-410440421-g_wn.jpg'},\n",
       " {'_id': ObjectId('619fce1643d45b9f6c707622'),\n",
       "  'index': 56,\n",
       "  'url': 'https://qq.yh31.com/tp/zw/202111111311421386.jpg'},\n",
       " {'_id': ObjectId('619fce1643d45b9f6c707623'),\n",
       "  'index': 57,\n",
       "  'url': 'https://img.tusij.com/ips_templ_preview/2021-05-25/8b/8b2e167e-5319-4a52-b4a7-3648bf084292.jpg%21w390?auth_key=1653523200-0-0-d31f6f3cce580adf0c80e423edae4b4f'},\n",
       " {'_id': ObjectId('619fce1643d45b9f6c707624'),\n",
       "  'index': 58,\n",
       "  'url': 'https://nimg.ws.126.net/?url=http%3A%2F%2Fdingyue.ws.126.net%2F2020%2F1018%2Fb426c280j00qidl6a001wc000hs00m2c.jpg&thumbnail=650x2147483647&quality=80&type=jpg'},\n",
       " {'_id': ObjectId('619fce1643d45b9f6c707625'),\n",
       "  'index': 59,\n",
       "  'url': 'https://i.epochtimes.com/assets/uploads/2018/04/Image_c7497d1-e1523253250458.jpg'},\n",
       " {'_id': ObjectId('619fce1643d45b9f6c707626'),\n",
       "  'index': 60,\n",
       "  'url': 'https://p3.itc.cn/images01/20210312/853e7306d36442639593a49c174d41cc.png'},\n",
       " {'_id': ObjectId('619fce1643d45b9f6c707627'),\n",
       "  'index': 61,\n",
       "  'url': 'https://imgpp.ztupic.com/u/NJMLBkUpO3/1601209379017_bff9eb85.jpg?x-oss-process=image/crop,w_1024,h_1542/resize,h_812/quality,q_85/sharpen,100'},\n",
       " {'_id': ObjectId('619fce1643d45b9f6c707628'),\n",
       "  'index': 62,\n",
       "  'url': 'https://i0.wp.com/photo.16pic.com/00/79/31/16pic_7931857_b.jpg'},\n",
       " {'_id': ObjectId('619fce1643d45b9f6c707629'),\n",
       "  'index': 63,\n",
       "  'url': 'https://1.bp.blogspot.com/-yycFqBxB-1w/XuGUSlnoqfI/AAAAAAACJ1c/0daqSTBuIEcAhUDA7aP4UhIvMF42AKNQACK4BGAsYHg/s960/3330.jpg'},\n",
       " {'_id': ObjectId('619fce1643d45b9f6c70762a'),\n",
       "  'index': 64,\n",
       "  'url': 'https://i.ppfocus.com/2020/9/0e2961e9bf.jpg'},\n",
       " {'_id': ObjectId('619fce1643d45b9f6c70762b'),\n",
       "  'index': 65,\n",
       "  'url': 'https://inews.gtimg.com/newsapp_bt/0/13460429290/1000'},\n",
       " {'_id': ObjectId('619fce1643d45b9f6c70762c'),\n",
       "  'index': 66,\n",
       "  'url': 'https://lh3.googleusercontent.com/kTiqX7CSa6ejB5MzfNJ29OkC4LumDrrd6Z0N91Y192KXUUM4Mh83n2H-7a9NwVn16j4'},\n",
       " {'_id': ObjectId('619fce1643d45b9f6c70762d'),\n",
       "  'index': 67,\n",
       "  'url': 'https://cib.npa.gov.tw/ch/app/data/image?module=wg135&detailNo=893336723084283904&init=N'},\n",
       " {'_id': ObjectId('619fce1643d45b9f6c70762e'),\n",
       "  'index': 68,\n",
       "  'url': 'https://png.pngtree.com/background/20210710/original/pngtree-creative-cat-good-morning-greetings-warm-poster-picture-image_1043759.jpg'},\n",
       " {'_id': ObjectId('619fce1643d45b9f6c70762f'),\n",
       "  'index': 69,\n",
       "  'url': 'https://i01piccdn.sogoucdn.com/0ad9d2c8714a991c'},\n",
       " {'_id': ObjectId('619fce1643d45b9f6c707630'),\n",
       "  'index': 70,\n",
       "  'url': 'http://p5.toutiaoimg.com/large/pgc-image/d770b4eee2674dca88d77500408fe059?from=detail&index=0'},\n",
       " {'_id': ObjectId('619fce1643d45b9f6c707631'),\n",
       "  'index': 71,\n",
       "  'url': 'https://i2.jueshifan.com/205a28/7c047b83/265f3cdd09f3ab5d81781c.jpg'},\n",
       " {'_id': ObjectId('619fce1643d45b9f6c707632'),\n",
       "  'index': 72,\n",
       "  'url': 'https://images.twgreatdaily.com/images/elastic/kIm/kImRq3kBAxbFhpvDn4th.jpg'},\n",
       " {'_id': ObjectId('619fce1643d45b9f6c707633'),\n",
       "  'index': 73,\n",
       "  'url': 'https://www.crazybless.com/good-morning/morning/image/%E6%97%A9%E5%AE%89%E5%9C%96%E4%B8%8B%E8%BC%89%20(1335).jpg'},\n",
       " {'_id': ObjectId('619fce1643d45b9f6c707634'),\n",
       "  'index': 74,\n",
       "  'url': 'https://img95.699pic.com/desgin_photo/40180/3142_list.jpg'},\n",
       " {'_id': ObjectId('619fce1643d45b9f6c707635'),\n",
       "  'index': 75,\n",
       "  'url': 'http://n.sinaimg.cn/sinakd20201230s/697/w692h805/20201230/29fe-kfxsuvw9432647.jpg'},\n",
       " {'_id': ObjectId('619fce1743d45b9f6c707636'),\n",
       "  'index': 76,\n",
       "  'url': 'http://pic.616pic.com/bg_w1180/00/11/33/9WgQPwhOv6.jpg'},\n",
       " {'_id': ObjectId('619fce1743d45b9f6c707637'),\n",
       "  'index': 77,\n",
       "  'url': 'https://lh3.googleusercontent.com/4vfH00sHNJu2gg36CyTELs6UFz7h6bZFfj_c89pwezS3O8fzUFdMgvfILZkp-qs_HNXf=h200'},\n",
       " {'_id': ObjectId('619fce1743d45b9f6c707638'),\n",
       "  'index': 78,\n",
       "  'url': 'https://p1.nanmuxuan.com/images/55/42bbffbe82aeee13.jpg'},\n",
       " {'_id': ObjectId('619fce1743d45b9f6c707639'),\n",
       "  'index': 79,\n",
       "  'url': 'https://pic.pimg.tw/natasha790708/1632504373-3006490374-g_l.png'},\n",
       " {'_id': ObjectId('619fce1743d45b9f6c70763a'),\n",
       "  'index': 80,\n",
       "  'url': 'https://i0.wp.com/5b0988e595225.cdn.sohucs.com/images/20190421/9c7aeb1e4ac74c7587b5f6f034d7eeb7.jpeg'},\n",
       " {'_id': ObjectId('619fce1743d45b9f6c70763b'),\n",
       "  'index': 81,\n",
       "  'url': 'https://up.enterdesk.com/edpic_360_360/f3/ee/38/f3ee385445089701e809b06975f7ef23.jpg'},\n",
       " {'_id': ObjectId('619fce1743d45b9f6c70763c'),\n",
       "  'index': 82,\n",
       "  'url': 'https://lookaside.fbsbx.com/lookaside/crawler/media/?media_id=3015668318482275'},\n",
       " {'_id': ObjectId('619fce1743d45b9f6c70763d'),\n",
       "  'index': 83,\n",
       "  'url': 'https://c.tenor.com/rlqueJXPoVAAAAAd/%E6%97%A9%E5%AE%89-%E6%97%A9%E4%B8%8A%E5%A5%BD.gif'},\n",
       " {'_id': ObjectId('619fce1743d45b9f6c70763e'),\n",
       "  'index': 84,\n",
       "  'url': 'https://cdn6.aptoide.com/imgs/3/b/a/3bafaa0783725a493ff11ca2eacbb390_screen.jpg?h=500'},\n",
       " {'_id': ObjectId('619fce1743d45b9f6c70763f'),\n",
       "  'index': 85,\n",
       "  'url': 'https://pic140.huitu.com/pic/20200406/624609_20200406162732414020_0.jpg'},\n",
       " {'_id': ObjectId('619fce1743d45b9f6c707640'),\n",
       "  'index': 86,\n",
       "  'url': 'https://upload-images.jianshu.io/upload_images/6644152-949d7bc1b9bf304a.jpeg'},\n",
       " {'_id': ObjectId('619fce1743d45b9f6c707641'),\n",
       "  'index': 87,\n",
       "  'url': 'https://i0.wp.com/png.pngtree.com/thumb_back/fw800/back_our/20190625/ourmid/pngtree-small-fresh-tulips-good-morning-pictures-image_260653.jpg'},\n",
       " {'_id': ObjectId('619fce1743d45b9f6c707642'),\n",
       "  'index': 88,\n",
       "  'url': 'https://www.crazy-tutorial.com/wp-content/uploads/2020/03/%E6%97%A9%E5%AE%89%E9%95%B7%E8%BC%A9%E5%9C%96%E4%B8%8B%E8%BC%89-1200x628.jpg'},\n",
       " {'_id': ObjectId('619fce1743d45b9f6c707643'),\n",
       "  'index': 89,\n",
       "  'url': 'https://pica.nidbox.net/69/1602030960_7de81ebc_69.jpg'},\n",
       " {'_id': ObjectId('619fce1743d45b9f6c707644'),\n",
       "  'index': 90,\n",
       "  'url': 'https://si1.go2yd.com/get-image/0ovlJd1FDqh'},\n",
       " {'_id': ObjectId('619fce1743d45b9f6c707645'),\n",
       "  'index': 91,\n",
       "  'url': 'https://i.ytimg.com/vi/sjFmQ472g9I/sddefault.jpg'},\n",
       " {'_id': ObjectId('619fce1743d45b9f6c707646'),\n",
       "  'index': 92,\n",
       "  'url': 'https://p1.nanmuxuan.com/images/2d/f700b4480a2421fe.jpg'},\n",
       " {'_id': ObjectId('619fce1743d45b9f6c707647'),\n",
       "  'index': 93,\n",
       "  'url': 'https://image.winudf.com/v2/image1/Y29tLmFwcHNjaGluZXNlLmdvb2Rtb3JuaW5nX3NjcmVlbl8wXzE1Njc4NzUyMDBfMDU5/screen-0.jpg?fakeurl=1&type=.jpg'},\n",
       " {'_id': ObjectId('619fce1743d45b9f6c707648'),\n",
       "  'index': 94,\n",
       "  'url': 'https://play-lh.googleusercontent.com/Wwp8X3vbgAFwc8NNyiI5uyBVXzlVriKy6GzzMX6rh5uXlQv9Z6zWiy0PJHcJ0TeJzw'},\n",
       " {'_id': ObjectId('619fce1743d45b9f6c707649'),\n",
       "  'index': 95,\n",
       "  'url': 'https://image.tubangzhu.com/updata-new/201905/08/d1f53a605d9af0048d5a.png'},\n",
       " {'_id': ObjectId('619fce1743d45b9f6c70764a'),\n",
       "  'index': 96,\n",
       "  'url': 'https://i0.wp.com/www.crazy-tutorial.com/wp-content/uploads/2020/03/%E9%80%B1%E6%97%A5%E6%97%A9%E5%AE%89%E5%9C%96-36.jpg'},\n",
       " {'_id': ObjectId('619fce1743d45b9f6c70764b'),\n",
       "  'index': 97,\n",
       "  'url': 'http://5b0988e595225.cdn.sohucs.com/images/20180722/42510904787f476ab35c90d79c00e64f.jpeg'},\n",
       " {'_id': ObjectId('619fce1743d45b9f6c70764c'),\n",
       "  'index': 98,\n",
       "  'url': 'https://memeprod.ap-south-1.linodeobjects.com/user-template/2b045447b1fa6e0419fb479c0bdea7c6.png'},\n",
       " {'_id': ObjectId('619fce1743d45b9f6c70764d'),\n",
       "  'index': 99,\n",
       "  'url': 'https://mmbiz.qpic.cn/mmbiz_jpg/dWut6QPaMlO2bmic4QNiao0MjRPul95Jfc2HLBRNvj8AnX6BQpvPY1UAHAlEAnibZsPc4ibZDvJ5TOmJz3XQzAHbaw/640?wx_fmt=jpeg'}]"
      ]
     },
     "execution_count": 15,
     "metadata": {},
     "output_type": "execute_result"
    }
   ],
   "source": [
    "list(collection.find({}))"
   ]
  },
  {
   "cell_type": "code",
   "execution_count": 16,
   "id": "c9db038f",
   "metadata": {},
   "outputs": [
    {
     "name": "stdout",
     "output_type": "stream",
     "text": [
      "https://i.pinimg.com/originals/f0/b1/14/f0b1141284f30661abed07cc5a8a6706.jpg\n",
      "https://i.pinimg.com/736x/0c/f6/3e/0cf63e3a7f1085145fa2306d722f9514.jpg\n",
      "https://lookaside.fbsbx.com/lookaside/crawler/media/?media_id=4159889920726770\n",
      "https://i.pinimg.com/550x/2b/36/6e/2b366e09c3244facec3ef143722bf2c3.jpg\n",
      "https://i.epochtimes.com/assets/uploads/2018/04/Image_6ec071e.jpg\n",
      "https://p7.itc.cn/images01/20210625/4cee2ec8633045b5a4752686e1743b4a.jpeg\n",
      "https://i04piccdn.sogoucdn.com/23aac9b57bc53607\n",
      "https://s167.daydaynews.cc/?url=http%3A%2F%2Finews.gtimg.com%2Fnewsapp_bt%2F0%2F12904020509%2F1000\n",
      "https://i.pinimg.com/originals/d3/cb/58/d3cb580f0605c9522a9f203371c34fb7.jpg\n",
      "https://nimg.ws.126.net/?url=http%3A%2F%2Fdingyue.ws.126.net%2F2020%2F0903%2F0fbeb134j00qg27jo001vc000u000p3m.jpg&thumbnail=650x2147483647&quality=80&type=jpg\n",
      "https://lookaside.fbsbx.com/lookaside/crawler/media/?media_id=2328097063906074\n",
      "https://i1.kknews.cc/SIG=4v1org/ctp-vzntr/512n914n076q46849p0o21sn054548r0.jpg\n",
      "https://p5.itc.cn/images01/20210822/78168b3d57bd499f9f7f138768ee2189.jpeg\n",
      "https://goodmorningimages.imagens-debomdia.com/wp-content/uploads/2021/09/%E5%85%8D%E8%B4%B9%E4%B8%8B%E8%BD%BD%E6%97%A9%E5%AE%89%E5%9B%BE%E7%89%87%E5%9B%BE%E7%89%87%E7%85%A7%E7%89%87.jpg\n",
      "https://y.qichejiashi.com/tupian/upload/146477205.jpg\n",
      "https://pic1.zhimg.com/80/v2-07d26c4bb4c64069c03ee97694ecc96c_1440w.jpg\n",
      "http://p26.toutiaoimg.com/large/pgc-image/1c561b3533b8460cbc6f96231d60edb4?from=detail&index=0\n",
      "https://image.winudf.com/v2/image1/cGhlbml4LmFwcC5nb29kbW9ybmluZ2NoX3NjcmVlbl8wXzE1NTYwNjQ0MzZfMDM5/screen-0.jpg?fakeurl=1&type=.jpg\n",
      "https://i1.read01.com/SIG=1m6dg5p/304e7639434563774f39.jpg\n",
      "https://i.pwp.cc/allimg/210406/4-210406111A0.jpg\n",
      "https://images.apktouch.com/img/h09/h78/img_localize_dd81e177e773dbe1ded0c41489c99753_599x800_480x641.png\n",
      "https://i04piccdn.sogoucdn.com/d2b72e53455b51c1\n",
      "https://s.yimg.com/uu/api/res/1.2/8hlc2PP1uxUfytnS8cImYw--~B/aD01MzM7dz04MDA7YXBwaWQ9eXRhY2h5b24-/https://media.zenfs.com/zh-tw/mirrormedia.mg/6754bbea9b777205fc7c8b0597f83fbb\n",
      "https://nimg.ws.126.net/?url=http%3A%2F%2Fdingyue.ws.126.net%2F2021%2F0509%2F38af6f6bj00qst515000zc000hs00lhc.jpg&thumbnail=650x2147483647&quality=80&type=jpg\n",
      "http://nimg.ws.126.net/?url=http://dingyue.ws.126.net/2021/0613/b4c2a5bbj00qunb8q001hc000iw00otc.jpg&thumbnail=650x2147483647&quality=80&type=jpg\n",
      "https://i0.wp.com/5b0988e595225.cdn.sohucs.com/images/20190511/095beea7b3be46978e60697e4ede1b7c.jpeg\n",
      "http://p1.pstatp.com/large/pgc-image/6ce904f30bb14a63afcedc7115965a0b\n",
      "https://image.16pic.com/00/81/78/16pic_8178935_s.jpg?imageView2/0/format/png\n",
      "https://p0.itc.cn/images01/20210330/21fc73da93ca496a917e3f57f70047bd.jpeg\n",
      "https://image.tubangzhu.com/updata-new/201905/23/4174d11e3c9de72349b2.png\n",
      "http://nimg.ws.126.net/?url=http://dingyue.ws.126.net/2021/0412/25c99c85j00qrfdxu001lc000hs00myg.jpg&thumbnail=650x2147483647&quality=80&type=jpg\n",
      "https://mmbiz.qpic.cn/mmbiz_jpg/MFiaPIiagDluo1kfESFERwCGTU4cVWcIVzbJnv5DKFZdfxlA1CxNpicicENc88TrytVsjBJ7guIIETnJaV7BsibWP7A/0?wx_fmt=jpeg\n",
      "https://tu.vziti.com/zaoimg/9/p9863_2.jpg\n",
      "https://i.pinimg.com/originals/ab/a2/9f/aba29f228ea1375e6f935a8b7b56912c.jpg\n",
      "https://s.yimg.com/uu/api/res/1.2/Y3oirQZpOGk6N9j6wXiCjQ--~B/aD01NDA7dz01Mzc7YXBwaWQ9eXRhY2h5b24-/https://media.zenfs.com/zh-tw/setn.com.tw/b7f424111c316a7cb80d73708c0927ac\n",
      "http://pic.616pic.com/bg_w1180/00/00/20/TGwfOIHAXL.jpg\n",
      "https://lookaside.fbsbx.com/lookaside/crawler/media/?media_id=142139807516316\n",
      "https://photo.16pic.com/00/93/41/16pic_9341008_b.jpg\n",
      "https://img.365tnews.com/uploads/allimg/08/18/14/14549.jpeg\n",
      "https://i3.jueshifan.com/205a28/7c047b82/21537dc44beead438e7f19.jpg\n",
      "https://qq.yh31.com/tp/zw/202110201137440292.jpg\n",
      "https://y.qichejiashi.com/tupian/upload/31996190.jpg\n",
      "https://www.fangjial.com/uploads/allimg/200226/0K2135X7-1.jpg\n",
      "https://p1-tt.byteimg.com/origin/pgc-image/f391b428b06e4ae5a560c13d1235a177\n",
      "https://sticker.fpg.com.tw/sticker/daily-illustration/daily-illustration-153.jpg\n",
      "https://img.tusij.com/ips_templ_preview/2021-05-28/0d/0ddab3b0-a46b-477d-ba7d-603538deb0cf.jpg%21w390?auth_key=1661299200-0-0-6f77a53fd566f2ec97c781f8d12dbecc\n",
      "https://c.tenor.com/1bhDlDyiYoMAAAAC/%E6%97%A9%E5%AE%89-%E6%97%A9%E4%B8%8A%E5%A5%BD.gif\n",
      "https://image.winudf.com/v2/image1/Y29tLmdvcHViLm1vcm5pbmdfc2NyZWVuXzNfMTU1NjE2MTMwNl8wMjA/screen-3.jpg?fakeurl=1&type=.jpg\n",
      "https://wx2.sinaimg.cn/large/6c9debf0ly4gruih013xnj20zk0t07dh.jpg\n",
      "https://cdn.steemitimages.com/DQmbPQAGcEQKEDMEKT7sqS9hWqbZW2FASw7k2NV3gsUFMdv/photo6215419939557320797.jpg\n",
      "https://pica.nidbox.net/67/1578961717_062c4e40_67.jpg\n",
      "https://img95.699pic.com/desgin_photo/40180/7291_list.jpg\n",
      "https://i1.kknews.cc/SIG=18tkgrs/ctp-vzntr/2o4sq3n927224s6pn6r57872045665ns.jpg\n",
      "https://i.ytimg.com/vi/enWzNaqMunM/maxresdefault.jpg\n",
      "https://pic2.zhimg.com/v2-a85ddb0e39b99f4b7af092df26399bc0_1440w.jpg?source=172ae18b\n",
      "https://pic.pimg.tw/watermoon333/1632402928-410440421-g_wn.jpg\n",
      "https://qq.yh31.com/tp/zw/202111111311421386.jpg\n",
      "https://img.tusij.com/ips_templ_preview/2021-05-25/8b/8b2e167e-5319-4a52-b4a7-3648bf084292.jpg%21w390?auth_key=1653523200-0-0-d31f6f3cce580adf0c80e423edae4b4f\n",
      "https://nimg.ws.126.net/?url=http%3A%2F%2Fdingyue.ws.126.net%2F2020%2F1018%2Fb426c280j00qidl6a001wc000hs00m2c.jpg&thumbnail=650x2147483647&quality=80&type=jpg\n",
      "https://i.epochtimes.com/assets/uploads/2018/04/Image_c7497d1-e1523253250458.jpg\n",
      "https://p3.itc.cn/images01/20210312/853e7306d36442639593a49c174d41cc.png\n",
      "https://imgpp.ztupic.com/u/NJMLBkUpO3/1601209379017_bff9eb85.jpg?x-oss-process=image/crop,w_1024,h_1542/resize,h_812/quality,q_85/sharpen,100\n",
      "https://i0.wp.com/photo.16pic.com/00/79/31/16pic_7931857_b.jpg\n",
      "https://1.bp.blogspot.com/-yycFqBxB-1w/XuGUSlnoqfI/AAAAAAACJ1c/0daqSTBuIEcAhUDA7aP4UhIvMF42AKNQACK4BGAsYHg/s960/3330.jpg\n",
      "https://i.ppfocus.com/2020/9/0e2961e9bf.jpg\n",
      "https://inews.gtimg.com/newsapp_bt/0/13460429290/1000\n",
      "https://lh3.googleusercontent.com/kTiqX7CSa6ejB5MzfNJ29OkC4LumDrrd6Z0N91Y192KXUUM4Mh83n2H-7a9NwVn16j4\n",
      "https://cib.npa.gov.tw/ch/app/data/image?module=wg135&detailNo=893336723084283904&init=N\n",
      "https://png.pngtree.com/background/20210710/original/pngtree-creative-cat-good-morning-greetings-warm-poster-picture-image_1043759.jpg\n",
      "https://i01piccdn.sogoucdn.com/0ad9d2c8714a991c\n",
      "http://p5.toutiaoimg.com/large/pgc-image/d770b4eee2674dca88d77500408fe059?from=detail&index=0\n",
      "https://i2.jueshifan.com/205a28/7c047b83/265f3cdd09f3ab5d81781c.jpg\n",
      "https://images.twgreatdaily.com/images/elastic/kIm/kImRq3kBAxbFhpvDn4th.jpg\n",
      "https://www.crazybless.com/good-morning/morning/image/%E6%97%A9%E5%AE%89%E5%9C%96%E4%B8%8B%E8%BC%89%20(1335).jpg\n",
      "https://img95.699pic.com/desgin_photo/40180/3142_list.jpg\n",
      "http://n.sinaimg.cn/sinakd20201230s/697/w692h805/20201230/29fe-kfxsuvw9432647.jpg\n",
      "http://pic.616pic.com/bg_w1180/00/11/33/9WgQPwhOv6.jpg\n",
      "https://lh3.googleusercontent.com/4vfH00sHNJu2gg36CyTELs6UFz7h6bZFfj_c89pwezS3O8fzUFdMgvfILZkp-qs_HNXf=h200\n",
      "https://p1.nanmuxuan.com/images/55/42bbffbe82aeee13.jpg\n",
      "https://pic.pimg.tw/natasha790708/1632504373-3006490374-g_l.png\n",
      "https://i0.wp.com/5b0988e595225.cdn.sohucs.com/images/20190421/9c7aeb1e4ac74c7587b5f6f034d7eeb7.jpeg\n",
      "https://up.enterdesk.com/edpic_360_360/f3/ee/38/f3ee385445089701e809b06975f7ef23.jpg\n",
      "https://lookaside.fbsbx.com/lookaside/crawler/media/?media_id=3015668318482275\n",
      "https://c.tenor.com/rlqueJXPoVAAAAAd/%E6%97%A9%E5%AE%89-%E6%97%A9%E4%B8%8A%E5%A5%BD.gif\n",
      "https://cdn6.aptoide.com/imgs/3/b/a/3bafaa0783725a493ff11ca2eacbb390_screen.jpg?h=500\n",
      "https://pic140.huitu.com/pic/20200406/624609_20200406162732414020_0.jpg\n",
      "https://upload-images.jianshu.io/upload_images/6644152-949d7bc1b9bf304a.jpeg\n",
      "https://i0.wp.com/png.pngtree.com/thumb_back/fw800/back_our/20190625/ourmid/pngtree-small-fresh-tulips-good-morning-pictures-image_260653.jpg\n",
      "https://www.crazy-tutorial.com/wp-content/uploads/2020/03/%E6%97%A9%E5%AE%89%E9%95%B7%E8%BC%A9%E5%9C%96%E4%B8%8B%E8%BC%89-1200x628.jpg\n",
      "https://pica.nidbox.net/69/1602030960_7de81ebc_69.jpg\n",
      "https://si1.go2yd.com/get-image/0ovlJd1FDqh\n",
      "https://i.ytimg.com/vi/sjFmQ472g9I/sddefault.jpg\n",
      "https://p1.nanmuxuan.com/images/2d/f700b4480a2421fe.jpg\n",
      "https://image.winudf.com/v2/image1/Y29tLmFwcHNjaGluZXNlLmdvb2Rtb3JuaW5nX3NjcmVlbl8wXzE1Njc4NzUyMDBfMDU5/screen-0.jpg?fakeurl=1&type=.jpg\n",
      "https://play-lh.googleusercontent.com/Wwp8X3vbgAFwc8NNyiI5uyBVXzlVriKy6GzzMX6rh5uXlQv9Z6zWiy0PJHcJ0TeJzw\n",
      "https://image.tubangzhu.com/updata-new/201905/08/d1f53a605d9af0048d5a.png\n",
      "https://i0.wp.com/www.crazy-tutorial.com/wp-content/uploads/2020/03/%E9%80%B1%E6%97%A5%E6%97%A9%E5%AE%89%E5%9C%96-36.jpg\n",
      "http://5b0988e595225.cdn.sohucs.com/images/20180722/42510904787f476ab35c90d79c00e64f.jpeg\n",
      "https://memeprod.ap-south-1.linodeobjects.com/user-template/2b045447b1fa6e0419fb479c0bdea7c6.png\n",
      "https://mmbiz.qpic.cn/mmbiz_jpg/dWut6QPaMlO2bmic4QNiao0MjRPul95Jfc2HLBRNvj8AnX6BQpvPY1UAHAlEAnibZsPc4ibZDvJ5TOmJz3XQzAHbaw/640?wx_fmt=jpeg\n"
     ]
    }
   ],
   "source": [
    "for document in collection.find():\n",
    "    print (document['url'])"
   ]
  },
  {
   "cell_type": "code",
   "execution_count": null,
   "id": "015b6adf",
   "metadata": {},
   "outputs": [],
   "source": []
  },
  {
   "cell_type": "code",
   "execution_count": 27,
   "id": "d752763d",
   "metadata": {},
   "outputs": [],
   "source": [
    "content = \"\""
   ]
  },
  {
   "cell_type": "code",
   "execution_count": 28,
   "id": "95ff5c57",
   "metadata": {},
   "outputs": [],
   "source": [
    "for document in collection.find():\n",
    "    content += '{}\\n'.format(document['url'])"
   ]
  },
  {
   "cell_type": "code",
   "execution_count": 30,
   "id": "a46f3d53",
   "metadata": {},
   "outputs": [
    {
     "name": "stdout",
     "output_type": "stream",
     "text": [
      "https://i.pinimg.com/originals/f0/b1/14/f0b1141284f30661abed07cc5a8a6706.jpg\n",
      "https://i.pinimg.com/736x/0c/f6/3e/0cf63e3a7f1085145fa2306d722f9514.jpg\n",
      "https://lookaside.fbsbx.com/lookaside/crawler/media/?media_id=4159889920726770\n",
      "https://i.pinimg.com/550x/2b/36/6e/2b366e09c3244facec3ef143722bf2c3.jpg\n",
      "https://i.epochtimes.com/assets/uploads/2018/04/Image_6ec071e.jpg\n",
      "https://p7.itc.cn/images01/20210625/4cee2ec8633045b5a4752686e1743b4a.jpeg\n",
      "https://i04piccdn.sogoucdn.com/23aac9b57bc53607\n",
      "https://s167.daydaynews.cc/?url=http%3A%2F%2Finews.gtimg.com%2Fnewsapp_bt%2F0%2F12904020509%2F1000\n",
      "https://i.pinimg.com/originals/d3/cb/58/d3cb580f0605c9522a9f203371c34fb7.jpg\n",
      "https://nimg.ws.126.net/?url=http%3A%2F%2Fdingyue.ws.126.net%2F2020%2F0903%2F0fbeb134j00qg27jo001vc000u000p3m.jpg&thumbnail=650x2147483647&quality=80&type=jpg\n",
      "https://lookaside.fbsbx.com/lookaside/crawler/media/?media_id=2328097063906074\n",
      "https://i1.kknews.cc/SIG=4v1org/ctp-vzntr/512n914n076q46849p0o21sn054548r0.jpg\n",
      "https://p5.itc.cn/images01/20210822/78168b3d57bd499f9f7f138768ee2189.jpeg\n",
      "https://goodmorningimages.imagens-debomdia.com/wp-content/uploads/2021/09/%E5%85%8D%E8%B4%B9%E4%B8%8B%E8%BD%BD%E6%97%A9%E5%AE%89%E5%9B%BE%E7%89%87%E5%9B%BE%E7%89%87%E7%85%A7%E7%89%87.jpg\n",
      "https://y.qichejiashi.com/tupian/upload/146477205.jpg\n",
      "https://pic1.zhimg.com/80/v2-07d26c4bb4c64069c03ee97694ecc96c_1440w.jpg\n",
      "http://p26.toutiaoimg.com/large/pgc-image/1c561b3533b8460cbc6f96231d60edb4?from=detail&index=0\n",
      "https://image.winudf.com/v2/image1/cGhlbml4LmFwcC5nb29kbW9ybmluZ2NoX3NjcmVlbl8wXzE1NTYwNjQ0MzZfMDM5/screen-0.jpg?fakeurl=1&type=.jpg\n",
      "https://i1.read01.com/SIG=1m6dg5p/304e7639434563774f39.jpg\n",
      "https://i.pwp.cc/allimg/210406/4-210406111A0.jpg\n",
      "https://images.apktouch.com/img/h09/h78/img_localize_dd81e177e773dbe1ded0c41489c99753_599x800_480x641.png\n",
      "https://i04piccdn.sogoucdn.com/d2b72e53455b51c1\n",
      "https://s.yimg.com/uu/api/res/1.2/8hlc2PP1uxUfytnS8cImYw--~B/aD01MzM7dz04MDA7YXBwaWQ9eXRhY2h5b24-/https://media.zenfs.com/zh-tw/mirrormedia.mg/6754bbea9b777205fc7c8b0597f83fbb\n",
      "https://nimg.ws.126.net/?url=http%3A%2F%2Fdingyue.ws.126.net%2F2021%2F0509%2F38af6f6bj00qst515000zc000hs00lhc.jpg&thumbnail=650x2147483647&quality=80&type=jpg\n",
      "http://nimg.ws.126.net/?url=http://dingyue.ws.126.net/2021/0613/b4c2a5bbj00qunb8q001hc000iw00otc.jpg&thumbnail=650x2147483647&quality=80&type=jpg\n",
      "https://i0.wp.com/5b0988e595225.cdn.sohucs.com/images/20190511/095beea7b3be46978e60697e4ede1b7c.jpeg\n",
      "http://p1.pstatp.com/large/pgc-image/6ce904f30bb14a63afcedc7115965a0b\n",
      "https://image.16pic.com/00/81/78/16pic_8178935_s.jpg?imageView2/0/format/png\n",
      "https://p0.itc.cn/images01/20210330/21fc73da93ca496a917e3f57f70047bd.jpeg\n",
      "https://image.tubangzhu.com/updata-new/201905/23/4174d11e3c9de72349b2.png\n",
      "http://nimg.ws.126.net/?url=http://dingyue.ws.126.net/2021/0412/25c99c85j00qrfdxu001lc000hs00myg.jpg&thumbnail=650x2147483647&quality=80&type=jpg\n",
      "https://mmbiz.qpic.cn/mmbiz_jpg/MFiaPIiagDluo1kfESFERwCGTU4cVWcIVzbJnv5DKFZdfxlA1CxNpicicENc88TrytVsjBJ7guIIETnJaV7BsibWP7A/0?wx_fmt=jpeg\n",
      "https://tu.vziti.com/zaoimg/9/p9863_2.jpg\n",
      "https://i.pinimg.com/originals/ab/a2/9f/aba29f228ea1375e6f935a8b7b56912c.jpg\n",
      "https://s.yimg.com/uu/api/res/1.2/Y3oirQZpOGk6N9j6wXiCjQ--~B/aD01NDA7dz01Mzc7YXBwaWQ9eXRhY2h5b24-/https://media.zenfs.com/zh-tw/setn.com.tw/b7f424111c316a7cb80d73708c0927ac\n",
      "http://pic.616pic.com/bg_w1180/00/00/20/TGwfOIHAXL.jpg\n",
      "https://lookaside.fbsbx.com/lookaside/crawler/media/?media_id=142139807516316\n",
      "https://photo.16pic.com/00/93/41/16pic_9341008_b.jpg\n",
      "https://img.365tnews.com/uploads/allimg/08/18/14/14549.jpeg\n",
      "https://i3.jueshifan.com/205a28/7c047b82/21537dc44beead438e7f19.jpg\n",
      "https://qq.yh31.com/tp/zw/202110201137440292.jpg\n",
      "https://y.qichejiashi.com/tupian/upload/31996190.jpg\n",
      "https://www.fangjial.com/uploads/allimg/200226/0K2135X7-1.jpg\n",
      "https://p1-tt.byteimg.com/origin/pgc-image/f391b428b06e4ae5a560c13d1235a177\n",
      "https://sticker.fpg.com.tw/sticker/daily-illustration/daily-illustration-153.jpg\n",
      "https://img.tusij.com/ips_templ_preview/2021-05-28/0d/0ddab3b0-a46b-477d-ba7d-603538deb0cf.jpg%21w390?auth_key=1661299200-0-0-6f77a53fd566f2ec97c781f8d12dbecc\n",
      "https://c.tenor.com/1bhDlDyiYoMAAAAC/%E6%97%A9%E5%AE%89-%E6%97%A9%E4%B8%8A%E5%A5%BD.gif\n",
      "https://image.winudf.com/v2/image1/Y29tLmdvcHViLm1vcm5pbmdfc2NyZWVuXzNfMTU1NjE2MTMwNl8wMjA/screen-3.jpg?fakeurl=1&type=.jpg\n",
      "https://wx2.sinaimg.cn/large/6c9debf0ly4gruih013xnj20zk0t07dh.jpg\n",
      "https://cdn.steemitimages.com/DQmbPQAGcEQKEDMEKT7sqS9hWqbZW2FASw7k2NV3gsUFMdv/photo6215419939557320797.jpg\n",
      "https://pica.nidbox.net/67/1578961717_062c4e40_67.jpg\n",
      "https://img95.699pic.com/desgin_photo/40180/7291_list.jpg\n",
      "https://i1.kknews.cc/SIG=18tkgrs/ctp-vzntr/2o4sq3n927224s6pn6r57872045665ns.jpg\n",
      "https://i.ytimg.com/vi/enWzNaqMunM/maxresdefault.jpg\n",
      "https://pic2.zhimg.com/v2-a85ddb0e39b99f4b7af092df26399bc0_1440w.jpg?source=172ae18b\n",
      "https://pic.pimg.tw/watermoon333/1632402928-410440421-g_wn.jpg\n",
      "https://qq.yh31.com/tp/zw/202111111311421386.jpg\n",
      "https://img.tusij.com/ips_templ_preview/2021-05-25/8b/8b2e167e-5319-4a52-b4a7-3648bf084292.jpg%21w390?auth_key=1653523200-0-0-d31f6f3cce580adf0c80e423edae4b4f\n",
      "https://nimg.ws.126.net/?url=http%3A%2F%2Fdingyue.ws.126.net%2F2020%2F1018%2Fb426c280j00qidl6a001wc000hs00m2c.jpg&thumbnail=650x2147483647&quality=80&type=jpg\n",
      "https://i.epochtimes.com/assets/uploads/2018/04/Image_c7497d1-e1523253250458.jpg\n",
      "https://p3.itc.cn/images01/20210312/853e7306d36442639593a49c174d41cc.png\n",
      "https://imgpp.ztupic.com/u/NJMLBkUpO3/1601209379017_bff9eb85.jpg?x-oss-process=image/crop,w_1024,h_1542/resize,h_812/quality,q_85/sharpen,100\n",
      "https://i0.wp.com/photo.16pic.com/00/79/31/16pic_7931857_b.jpg\n",
      "https://1.bp.blogspot.com/-yycFqBxB-1w/XuGUSlnoqfI/AAAAAAACJ1c/0daqSTBuIEcAhUDA7aP4UhIvMF42AKNQACK4BGAsYHg/s960/3330.jpg\n",
      "https://i.ppfocus.com/2020/9/0e2961e9bf.jpg\n",
      "https://inews.gtimg.com/newsapp_bt/0/13460429290/1000\n",
      "https://lh3.googleusercontent.com/kTiqX7CSa6ejB5MzfNJ29OkC4LumDrrd6Z0N91Y192KXUUM4Mh83n2H-7a9NwVn16j4\n",
      "https://cib.npa.gov.tw/ch/app/data/image?module=wg135&detailNo=893336723084283904&init=N\n",
      "https://png.pngtree.com/background/20210710/original/pngtree-creative-cat-good-morning-greetings-warm-poster-picture-image_1043759.jpg\n",
      "https://i01piccdn.sogoucdn.com/0ad9d2c8714a991c\n",
      "http://p5.toutiaoimg.com/large/pgc-image/d770b4eee2674dca88d77500408fe059?from=detail&index=0\n",
      "https://i2.jueshifan.com/205a28/7c047b83/265f3cdd09f3ab5d81781c.jpg\n",
      "https://images.twgreatdaily.com/images/elastic/kIm/kImRq3kBAxbFhpvDn4th.jpg\n",
      "https://www.crazybless.com/good-morning/morning/image/%E6%97%A9%E5%AE%89%E5%9C%96%E4%B8%8B%E8%BC%89%20(1335).jpg\n",
      "https://img95.699pic.com/desgin_photo/40180/3142_list.jpg\n",
      "http://n.sinaimg.cn/sinakd20201230s/697/w692h805/20201230/29fe-kfxsuvw9432647.jpg\n",
      "http://pic.616pic.com/bg_w1180/00/11/33/9WgQPwhOv6.jpg\n",
      "https://lh3.googleusercontent.com/4vfH00sHNJu2gg36CyTELs6UFz7h6bZFfj_c89pwezS3O8fzUFdMgvfILZkp-qs_HNXf=h200\n",
      "https://p1.nanmuxuan.com/images/55/42bbffbe82aeee13.jpg\n",
      "https://pic.pimg.tw/natasha790708/1632504373-3006490374-g_l.png\n",
      "https://i0.wp.com/5b0988e595225.cdn.sohucs.com/images/20190421/9c7aeb1e4ac74c7587b5f6f034d7eeb7.jpeg\n",
      "https://up.enterdesk.com/edpic_360_360/f3/ee/38/f3ee385445089701e809b06975f7ef23.jpg\n",
      "https://lookaside.fbsbx.com/lookaside/crawler/media/?media_id=3015668318482275\n",
      "https://c.tenor.com/rlqueJXPoVAAAAAd/%E6%97%A9%E5%AE%89-%E6%97%A9%E4%B8%8A%E5%A5%BD.gif\n",
      "https://cdn6.aptoide.com/imgs/3/b/a/3bafaa0783725a493ff11ca2eacbb390_screen.jpg?h=500\n",
      "https://pic140.huitu.com/pic/20200406/624609_20200406162732414020_0.jpg\n",
      "https://upload-images.jianshu.io/upload_images/6644152-949d7bc1b9bf304a.jpeg\n",
      "https://i0.wp.com/png.pngtree.com/thumb_back/fw800/back_our/20190625/ourmid/pngtree-small-fresh-tulips-good-morning-pictures-image_260653.jpg\n",
      "https://www.crazy-tutorial.com/wp-content/uploads/2020/03/%E6%97%A9%E5%AE%89%E9%95%B7%E8%BC%A9%E5%9C%96%E4%B8%8B%E8%BC%89-1200x628.jpg\n",
      "https://pica.nidbox.net/69/1602030960_7de81ebc_69.jpg\n",
      "https://si1.go2yd.com/get-image/0ovlJd1FDqh\n",
      "https://i.ytimg.com/vi/sjFmQ472g9I/sddefault.jpg\n",
      "https://p1.nanmuxuan.com/images/2d/f700b4480a2421fe.jpg\n",
      "https://image.winudf.com/v2/image1/Y29tLmFwcHNjaGluZXNlLmdvb2Rtb3JuaW5nX3NjcmVlbl8wXzE1Njc4NzUyMDBfMDU5/screen-0.jpg?fakeurl=1&type=.jpg\n",
      "https://play-lh.googleusercontent.com/Wwp8X3vbgAFwc8NNyiI5uyBVXzlVriKy6GzzMX6rh5uXlQv9Z6zWiy0PJHcJ0TeJzw\n",
      "https://image.tubangzhu.com/updata-new/201905/08/d1f53a605d9af0048d5a.png\n",
      "https://i0.wp.com/www.crazy-tutorial.com/wp-content/uploads/2020/03/%E9%80%B1%E6%97%A5%E6%97%A9%E5%AE%89%E5%9C%96-36.jpg\n",
      "http://5b0988e595225.cdn.sohucs.com/images/20180722/42510904787f476ab35c90d79c00e64f.jpeg\n",
      "https://memeprod.ap-south-1.linodeobjects.com/user-template/2b045447b1fa6e0419fb479c0bdea7c6.png\n",
      "https://mmbiz.qpic.cn/mmbiz_jpg/dWut6QPaMlO2bmic4QNiao0MjRPul95Jfc2HLBRNvj8AnX6BQpvPY1UAHAlEAnibZsPc4ibZDvJ5TOmJz3XQzAHbaw/640?wx_fmt=jpeg\n",
      "\n"
     ]
    }
   ],
   "source": [
    "print(content)"
   ]
  },
  {
   "cell_type": "code",
   "execution_count": null,
   "id": "d159e88b",
   "metadata": {},
   "outputs": [],
   "source": []
  },
  {
   "cell_type": "code",
   "execution_count": 17,
   "id": "bdc4790e",
   "metadata": {},
   "outputs": [],
   "source": [
    "import numpy as np\n",
    "import random\n",
    "data = list(collection.find({}))\n",
    "img_array = np.array(data)"
   ]
  },
  {
   "cell_type": "code",
   "execution_count": 18,
   "id": "73d5b8a4",
   "metadata": {},
   "outputs": [
    {
     "data": {
      "text/plain": [
       "'https://i.pinimg.com/originals/f0/b1/14/f0b1141284f30661abed07cc5a8a6706.jpg'"
      ]
     },
     "execution_count": 18,
     "metadata": {},
     "output_type": "execute_result"
    }
   ],
   "source": [
    "img_array[0]['url']"
   ]
  },
  {
   "cell_type": "code",
   "execution_count": 19,
   "id": "303d18a8",
   "metadata": {},
   "outputs": [
    {
     "data": {
      "text/plain": [
       "100"
      ]
     },
     "execution_count": 19,
     "metadata": {},
     "output_type": "execute_result"
    }
   ],
   "source": [
    "len(img_array)"
   ]
  },
  {
   "cell_type": "code",
   "execution_count": 22,
   "id": "f28835f9",
   "metadata": {},
   "outputs": [
    {
     "name": "stdout",
     "output_type": "stream",
     "text": [
      "早安圖的資料筆數為 : 100\n",
      "\n"
     ]
    }
   ],
   "source": [
    "print('{}的資料筆數為 : {}\\n'.format(imgName, len(img_array)))"
   ]
  },
  {
   "cell_type": "code",
   "execution_count": 20,
   "id": "2ea85512",
   "metadata": {},
   "outputs": [
    {
     "data": {
      "text/plain": [
       "18"
      ]
     },
     "execution_count": 20,
     "metadata": {},
     "output_type": "execute_result"
    }
   ],
   "source": [
    "random.randrange(0, len(img_array))"
   ]
  },
  {
   "cell_type": "code",
   "execution_count": null,
   "id": "a1996d5e",
   "metadata": {},
   "outputs": [],
   "source": []
  },
  {
   "cell_type": "markdown",
   "id": "df6175c4",
   "metadata": {},
   "source": [
    "# get databases random img"
   ]
  },
  {
   "cell_type": "code",
   "execution_count": 23,
   "id": "cda87524",
   "metadata": {},
   "outputs": [],
   "source": [
    "imgName = \"早安圖\""
   ]
  },
  {
   "cell_type": "code",
   "execution_count": 24,
   "id": "a72d3f1b",
   "metadata": {},
   "outputs": [],
   "source": [
    "collection = MongoClient(MONGO_HOST, 8080, username = '', password = '')[imgName]['imgUrl']"
   ]
  },
  {
   "cell_type": "code",
   "execution_count": 25,
   "id": "0bde30c9",
   "metadata": {},
   "outputs": [],
   "source": [
    "data = list(collection.find({}))\n",
    "img_array = np.array(data)"
   ]
  },
  {
   "cell_type": "code",
   "execution_count": 26,
   "id": "25aa2c78",
   "metadata": {},
   "outputs": [
    {
     "data": {
      "text/plain": [
       "'https://lookaside.fbsbx.com/lookaside/crawler/media/?media_id=142139807516316'"
      ]
     },
     "execution_count": 26,
     "metadata": {},
     "output_type": "execute_result"
    }
   ],
   "source": [
    "img_array[random.randrange(0, len(img_array))]['url']"
   ]
  },
  {
   "cell_type": "code",
   "execution_count": null,
   "id": "2acf18ef",
   "metadata": {},
   "outputs": [],
   "source": []
  }
 ],
 "metadata": {
  "kernelspec": {
   "display_name": "Python 3",
   "language": "python",
   "name": "python3"
  },
  "language_info": {
   "codemirror_mode": {
    "name": "ipython",
    "version": 3
   },
   "file_extension": ".py",
   "mimetype": "text/x-python",
   "name": "python",
   "nbconvert_exporter": "python",
   "pygments_lexer": "ipython3",
   "version": "3.7.9"
  }
 },
 "nbformat": 4,
 "nbformat_minor": 5
}
