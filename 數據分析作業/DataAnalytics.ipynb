{
 "cells": [
  {
   "cell_type": "code",
   "execution_count": 1,
   "metadata": {},
   "outputs": [],
   "source": [
    "import numpy as np\n",
    "import pandas as pd"
   ]
  },
  {
   "cell_type": "code",
   "execution_count": 2,
   "metadata": {},
   "outputs": [],
   "source": [
    "#顯示所有column\n",
    "pd.set_option('display.max_columns', None)"
   ]
  },
  {
   "cell_type": "code",
   "execution_count": 3,
   "metadata": {},
   "outputs": [
    {
     "name": "stdout",
     "output_type": "stream",
     "text": [
      "(47368, 12)\n",
      "<class 'pandas.core.frame.DataFrame'>\n",
      "RangeIndex: 47368 entries, 0 to 47367\n",
      "Data columns (total 12 columns):\n",
      " #   Column      Non-Null Count  Dtype  \n",
      "---  ------      --------------  -----  \n",
      " 0   Unnamed: 0  0 non-null      float64\n",
      " 1   學年度         47368 non-null  int64  \n",
      " 2   設立別         47368 non-null  object \n",
      " 3   學校類別        47368 non-null  object \n",
      " 4   學校代碼        47368 non-null  object \n",
      " 5   學校名稱        47368 non-null  object \n",
      " 6   系所代碼        47368 non-null  object \n",
      " 7   系所名稱        47368 non-null  object \n",
      " 8   學制          47368 non-null  object \n",
      " 9   正式學籍在學學生人數  47368 non-null  int64  \n",
      " 10  男           47368 non-null  int64  \n",
      " 11  女           47368 non-null  int64  \n",
      "dtypes: float64(1), int64(4), object(7)\n",
      "memory usage: 4.3+ MB\n",
      "None\n"
     ]
    },
    {
     "data": {
      "text/html": [
       "<div>\n",
       "<style scoped>\n",
       "    .dataframe tbody tr th:only-of-type {\n",
       "        vertical-align: middle;\n",
       "    }\n",
       "\n",
       "    .dataframe tbody tr th {\n",
       "        vertical-align: top;\n",
       "    }\n",
       "\n",
       "    .dataframe thead th {\n",
       "        text-align: right;\n",
       "    }\n",
       "</style>\n",
       "<table border=\"1\" class=\"dataframe\">\n",
       "  <thead>\n",
       "    <tr style=\"text-align: right;\">\n",
       "      <th></th>\n",
       "      <th>Unnamed: 0</th>\n",
       "      <th>學年度</th>\n",
       "      <th>設立別</th>\n",
       "      <th>學校類別</th>\n",
       "      <th>學校代碼</th>\n",
       "      <th>學校名稱</th>\n",
       "      <th>系所代碼</th>\n",
       "      <th>系所名稱</th>\n",
       "      <th>學制</th>\n",
       "      <th>正式學籍在學學生人數</th>\n",
       "      <th>男</th>\n",
       "      <th>女</th>\n",
       "    </tr>\n",
       "  </thead>\n",
       "  <tbody>\n",
       "    <tr>\n",
       "      <th>0</th>\n",
       "      <td>NaN</td>\n",
       "      <td>101</td>\n",
       "      <td>公立</td>\n",
       "      <td>一般大學</td>\n",
       "      <td>1</td>\n",
       "      <td>國立政治大學</td>\n",
       "      <td>140101</td>\n",
       "      <td>教育學系</td>\n",
       "      <td>學士班(日間)</td>\n",
       "      <td>234</td>\n",
       "      <td>75</td>\n",
       "      <td>159</td>\n",
       "    </tr>\n",
       "    <tr>\n",
       "      <th>1</th>\n",
       "      <td>NaN</td>\n",
       "      <td>101</td>\n",
       "      <td>公立</td>\n",
       "      <td>一般大學</td>\n",
       "      <td>1</td>\n",
       "      <td>國立政治大學</td>\n",
       "      <td>140101</td>\n",
       "      <td>教育學系</td>\n",
       "      <td>碩士班(日間)</td>\n",
       "      <td>36</td>\n",
       "      <td>3</td>\n",
       "      <td>33</td>\n",
       "    </tr>\n",
       "    <tr>\n",
       "      <th>2</th>\n",
       "      <td>NaN</td>\n",
       "      <td>101</td>\n",
       "      <td>公立</td>\n",
       "      <td>一般大學</td>\n",
       "      <td>1</td>\n",
       "      <td>國立政治大學</td>\n",
       "      <td>140101</td>\n",
       "      <td>教育學系</td>\n",
       "      <td>博士班</td>\n",
       "      <td>90</td>\n",
       "      <td>50</td>\n",
       "      <td>40</td>\n",
       "    </tr>\n",
       "    <tr>\n",
       "      <th>3</th>\n",
       "      <td>NaN</td>\n",
       "      <td>101</td>\n",
       "      <td>公立</td>\n",
       "      <td>一般大學</td>\n",
       "      <td>1</td>\n",
       "      <td>國立政治大學</td>\n",
       "      <td>140203</td>\n",
       "      <td>華語文教學碩士學位學程</td>\n",
       "      <td>碩士班(日間)</td>\n",
       "      <td>50</td>\n",
       "      <td>10</td>\n",
       "      <td>40</td>\n",
       "    </tr>\n",
       "    <tr>\n",
       "      <th>4</th>\n",
       "      <td>NaN</td>\n",
       "      <td>101</td>\n",
       "      <td>公立</td>\n",
       "      <td>一般大學</td>\n",
       "      <td>1</td>\n",
       "      <td>國立政治大學</td>\n",
       "      <td>140203</td>\n",
       "      <td>華語文教學博士學位學程</td>\n",
       "      <td>博士班</td>\n",
       "      <td>16</td>\n",
       "      <td>0</td>\n",
       "      <td>16</td>\n",
       "    </tr>\n",
       "  </tbody>\n",
       "</table>\n",
       "</div>"
      ],
      "text/plain": [
       "   Unnamed: 0  學年度 設立別   學校類別 學校代碼    學校名稱    系所代碼         系所名稱       學制  \\\n",
       "0         NaN  101   公立  一般大學    1  國立政治大學  140101         教育學系  學士班(日間)   \n",
       "1         NaN  101   公立  一般大學    1  國立政治大學  140101         教育學系  碩士班(日間)   \n",
       "2         NaN  101   公立  一般大學    1  國立政治大學  140101         教育學系      博士班   \n",
       "3         NaN  101   公立  一般大學    1  國立政治大學  140203  華語文教學碩士學位學程  碩士班(日間)   \n",
       "4         NaN  101   公立  一般大學    1  國立政治大學  140203  華語文教學博士學位學程      博士班   \n",
       "\n",
       "   正式學籍在學學生人數   男    女  \n",
       "0         234  75  159  \n",
       "1          36   3   33  \n",
       "2          90  50   40  \n",
       "3          50  10   40  \n",
       "4          16   0   16  "
      ]
     },
     "execution_count": 3,
     "metadata": {},
     "output_type": "execute_result"
    }
   ],
   "source": [
    "# 讀大專校院校務資訊公開平台—學生數歷史資訊(101-105學年度)\n",
    "studentData = pd.read_csv('Student_RPT_01.csv')\n",
    "print(studentData.shape)\n",
    "print(studentData.info())\n",
    "studentData.head(5)"
   ]
  },
  {
   "cell_type": "code",
   "execution_count": 4,
   "metadata": {},
   "outputs": [
    {
     "data": {
      "text/plain": [
       "Index(['Unnamed: 0', '學年度', '設立別 ', '學校類別', '學校代碼', '學校名稱', '系所代碼', '系所名稱',\n",
       "       '學制', '正式學籍在學學生人數', '男', '女'],\n",
       "      dtype='object')"
      ]
     },
     "execution_count": 4,
     "metadata": {},
     "output_type": "execute_result"
    }
   ],
   "source": [
    "studentData.columns"
   ]
  },
  {
   "cell_type": "code",
   "execution_count": 5,
   "metadata": {},
   "outputs": [
    {
     "data": {
      "text/html": [
       "<div>\n",
       "<style scoped>\n",
       "    .dataframe tbody tr th:only-of-type {\n",
       "        vertical-align: middle;\n",
       "    }\n",
       "\n",
       "    .dataframe tbody tr th {\n",
       "        vertical-align: top;\n",
       "    }\n",
       "\n",
       "    .dataframe thead th {\n",
       "        text-align: right;\n",
       "    }\n",
       "</style>\n",
       "<table border=\"1\" class=\"dataframe\">\n",
       "  <thead>\n",
       "    <tr style=\"text-align: right;\">\n",
       "      <th></th>\n",
       "      <th>學年度</th>\n",
       "      <th>設立別</th>\n",
       "      <th>學校類別</th>\n",
       "      <th>學校代碼</th>\n",
       "      <th>學校名稱</th>\n",
       "      <th>系所代碼</th>\n",
       "      <th>系所名稱</th>\n",
       "      <th>學制</th>\n",
       "      <th>正式學籍在學學生人數</th>\n",
       "      <th>男</th>\n",
       "      <th>女</th>\n",
       "    </tr>\n",
       "  </thead>\n",
       "  <tbody>\n",
       "    <tr>\n",
       "      <th>0</th>\n",
       "      <td>101</td>\n",
       "      <td>公立</td>\n",
       "      <td>一般大學</td>\n",
       "      <td>1</td>\n",
       "      <td>國立政治大學</td>\n",
       "      <td>140101</td>\n",
       "      <td>教育學系</td>\n",
       "      <td>學士班(日間)</td>\n",
       "      <td>234</td>\n",
       "      <td>75</td>\n",
       "      <td>159</td>\n",
       "    </tr>\n",
       "    <tr>\n",
       "      <th>1</th>\n",
       "      <td>101</td>\n",
       "      <td>公立</td>\n",
       "      <td>一般大學</td>\n",
       "      <td>1</td>\n",
       "      <td>國立政治大學</td>\n",
       "      <td>140101</td>\n",
       "      <td>教育學系</td>\n",
       "      <td>碩士班(日間)</td>\n",
       "      <td>36</td>\n",
       "      <td>3</td>\n",
       "      <td>33</td>\n",
       "    </tr>\n",
       "    <tr>\n",
       "      <th>2</th>\n",
       "      <td>101</td>\n",
       "      <td>公立</td>\n",
       "      <td>一般大學</td>\n",
       "      <td>1</td>\n",
       "      <td>國立政治大學</td>\n",
       "      <td>140101</td>\n",
       "      <td>教育學系</td>\n",
       "      <td>博士班</td>\n",
       "      <td>90</td>\n",
       "      <td>50</td>\n",
       "      <td>40</td>\n",
       "    </tr>\n",
       "    <tr>\n",
       "      <th>3</th>\n",
       "      <td>101</td>\n",
       "      <td>公立</td>\n",
       "      <td>一般大學</td>\n",
       "      <td>1</td>\n",
       "      <td>國立政治大學</td>\n",
       "      <td>140203</td>\n",
       "      <td>華語文教學碩士學位學程</td>\n",
       "      <td>碩士班(日間)</td>\n",
       "      <td>50</td>\n",
       "      <td>10</td>\n",
       "      <td>40</td>\n",
       "    </tr>\n",
       "    <tr>\n",
       "      <th>4</th>\n",
       "      <td>101</td>\n",
       "      <td>公立</td>\n",
       "      <td>一般大學</td>\n",
       "      <td>1</td>\n",
       "      <td>國立政治大學</td>\n",
       "      <td>140203</td>\n",
       "      <td>華語文教學博士學位學程</td>\n",
       "      <td>博士班</td>\n",
       "      <td>16</td>\n",
       "      <td>0</td>\n",
       "      <td>16</td>\n",
       "    </tr>\n",
       "  </tbody>\n",
       "</table>\n",
       "</div>"
      ],
      "text/plain": [
       "   學年度 設立別   學校類別 學校代碼    學校名稱    系所代碼         系所名稱       學制  正式學籍在學學生人數   男  \\\n",
       "0  101   公立  一般大學    1  國立政治大學  140101         教育學系  學士班(日間)         234  75   \n",
       "1  101   公立  一般大學    1  國立政治大學  140101         教育學系  碩士班(日間)          36   3   \n",
       "2  101   公立  一般大學    1  國立政治大學  140101         教育學系      博士班          90  50   \n",
       "3  101   公立  一般大學    1  國立政治大學  140203  華語文教學碩士學位學程  碩士班(日間)          50  10   \n",
       "4  101   公立  一般大學    1  國立政治大學  140203  華語文教學博士學位學程      博士班          16   0   \n",
       "\n",
       "     女  \n",
       "0  159  \n",
       "1   33  \n",
       "2   40  \n",
       "3   40  \n",
       "4   16  "
      ]
     },
     "execution_count": 5,
     "metadata": {},
     "output_type": "execute_result"
    }
   ],
   "source": [
    "studentData = studentData.drop(columns='Unnamed: 0')\n",
    "studentData.head(5)"
   ]
  },
  {
   "cell_type": "code",
   "execution_count": 6,
   "metadata": {},
   "outputs": [
    {
     "data": {
      "text/html": [
       "<div>\n",
       "<style scoped>\n",
       "    .dataframe tbody tr th:only-of-type {\n",
       "        vertical-align: middle;\n",
       "    }\n",
       "\n",
       "    .dataframe tbody tr th {\n",
       "        vertical-align: top;\n",
       "    }\n",
       "\n",
       "    .dataframe thead th {\n",
       "        text-align: right;\n",
       "    }\n",
       "</style>\n",
       "<table border=\"1\" class=\"dataframe\">\n",
       "  <thead>\n",
       "    <tr style=\"text-align: right;\">\n",
       "      <th></th>\n",
       "      <th>學年度</th>\n",
       "      <th>設立別</th>\n",
       "      <th>學校類別</th>\n",
       "      <th>學校代碼</th>\n",
       "      <th>學校名稱</th>\n",
       "      <th>系所代碼</th>\n",
       "      <th>系所名稱</th>\n",
       "      <th>學制</th>\n",
       "      <th>正式學籍在學學生人數</th>\n",
       "      <th>男</th>\n",
       "      <th>女</th>\n",
       "    </tr>\n",
       "  </thead>\n",
       "  <tbody>\n",
       "    <tr>\n",
       "      <th>0</th>\n",
       "      <td>101</td>\n",
       "      <td>公立</td>\n",
       "      <td>一般大學</td>\n",
       "      <td>1</td>\n",
       "      <td>國立政治大學</td>\n",
       "      <td>140101</td>\n",
       "      <td>教育學系</td>\n",
       "      <td>學士班(日間)</td>\n",
       "      <td>234</td>\n",
       "      <td>75</td>\n",
       "      <td>159</td>\n",
       "    </tr>\n",
       "    <tr>\n",
       "      <th>143</th>\n",
       "      <td>101</td>\n",
       "      <td>公立</td>\n",
       "      <td>一般大學</td>\n",
       "      <td>2</td>\n",
       "      <td>國立清華大學</td>\n",
       "      <td>220101</td>\n",
       "      <td>台灣文學研究所</td>\n",
       "      <td>碩士班(日間)</td>\n",
       "      <td>33</td>\n",
       "      <td>4</td>\n",
       "      <td>29</td>\n",
       "    </tr>\n",
       "    <tr>\n",
       "      <th>246</th>\n",
       "      <td>101</td>\n",
       "      <td>公立</td>\n",
       "      <td>一般大學</td>\n",
       "      <td>3</td>\n",
       "      <td>國立臺灣大學</td>\n",
       "      <td>140203</td>\n",
       "      <td>華語教學碩士學位學程</td>\n",
       "      <td>碩士班(日間)</td>\n",
       "      <td>16</td>\n",
       "      <td>5</td>\n",
       "      <td>11</td>\n",
       "    </tr>\n",
       "    <tr>\n",
       "      <th>566</th>\n",
       "      <td>101</td>\n",
       "      <td>公立</td>\n",
       "      <td>一般大學</td>\n",
       "      <td>4</td>\n",
       "      <td>國立臺灣師範大學</td>\n",
       "      <td>140101</td>\n",
       "      <td>教育學系學士班</td>\n",
       "      <td>學士班(日間)</td>\n",
       "      <td>255</td>\n",
       "      <td>57</td>\n",
       "      <td>198</td>\n",
       "    </tr>\n",
       "    <tr>\n",
       "      <th>717</th>\n",
       "      <td>101</td>\n",
       "      <td>公立</td>\n",
       "      <td>一般大學</td>\n",
       "      <td>5</td>\n",
       "      <td>國立成功大學</td>\n",
       "      <td>140101</td>\n",
       "      <td>教育研究所</td>\n",
       "      <td>碩士班(日間)</td>\n",
       "      <td>57</td>\n",
       "      <td>12</td>\n",
       "      <td>45</td>\n",
       "    </tr>\n",
       "    <tr>\n",
       "      <th>...</th>\n",
       "      <td>...</td>\n",
       "      <td>...</td>\n",
       "      <td>...</td>\n",
       "      <td>...</td>\n",
       "      <td>...</td>\n",
       "      <td>...</td>\n",
       "      <td>...</td>\n",
       "      <td>...</td>\n",
       "      <td>...</td>\n",
       "      <td>...</td>\n",
       "      <td>...</td>\n",
       "    </tr>\n",
       "    <tr>\n",
       "      <th>44710</th>\n",
       "      <td>105</td>\n",
       "      <td>私立</td>\n",
       "      <td>一般大學</td>\n",
       "      <td>1R02</td>\n",
       "      <td>學校財團法人中華浸信會基督教台灣浸會神學院</td>\n",
       "      <td>220805</td>\n",
       "      <td>基督教神學研究所－神道學組</td>\n",
       "      <td>碩士班(日間)</td>\n",
       "      <td>26</td>\n",
       "      <td>14</td>\n",
       "      <td>12</td>\n",
       "    </tr>\n",
       "    <tr>\n",
       "      <th>44713</th>\n",
       "      <td>105</td>\n",
       "      <td>私立</td>\n",
       "      <td>一般大學</td>\n",
       "      <td>1R04</td>\n",
       "      <td>財團法人一貫道天皇基金會一貫道天皇學院</td>\n",
       "      <td>220811</td>\n",
       "      <td>一貫道學研究所</td>\n",
       "      <td>碩士班(日間)</td>\n",
       "      <td>27</td>\n",
       "      <td>7</td>\n",
       "      <td>20</td>\n",
       "    </tr>\n",
       "    <tr>\n",
       "      <th>44714</th>\n",
       "      <td>105</td>\n",
       "      <td>私立</td>\n",
       "      <td>一般大學</td>\n",
       "      <td>1R05</td>\n",
       "      <td>台神學校財團法人台灣神學研究學院</td>\n",
       "      <td>220805</td>\n",
       "      <td>基督教研究所－基督教研究道學碩士班</td>\n",
       "      <td>碩士班(日間)</td>\n",
       "      <td>10</td>\n",
       "      <td>3</td>\n",
       "      <td>7</td>\n",
       "    </tr>\n",
       "    <tr>\n",
       "      <th>44716</th>\n",
       "      <td>105</td>\n",
       "      <td>私立</td>\n",
       "      <td>一般大學</td>\n",
       "      <td>1R06</td>\n",
       "      <td>一貫道崇德學院</td>\n",
       "      <td>220811</td>\n",
       "      <td>一貫道研究所</td>\n",
       "      <td>碩士班(日間)</td>\n",
       "      <td>13</td>\n",
       "      <td>8</td>\n",
       "      <td>5</td>\n",
       "    </tr>\n",
       "    <tr>\n",
       "      <th>46950</th>\n",
       "      <td>105</td>\n",
       "      <td>私立</td>\n",
       "      <td>技專校院</td>\n",
       "      <td>1168</td>\n",
       "      <td>南亞技術學院</td>\n",
       "      <td>220339</td>\n",
       "      <td>觀光英語科</td>\n",
       "      <td>五專</td>\n",
       "      <td>44</td>\n",
       "      <td>17</td>\n",
       "      <td>27</td>\n",
       "    </tr>\n",
       "  </tbody>\n",
       "</table>\n",
       "<p>182 rows × 11 columns</p>\n",
       "</div>"
      ],
      "text/plain": [
       "       學年度 設立別   學校類別  學校代碼                   學校名稱    系所代碼               系所名稱  \\\n",
       "0      101   公立  一般大學     1                 國立政治大學  140101               教育學系   \n",
       "143    101   公立  一般大學     2                 國立清華大學  220101            台灣文學研究所   \n",
       "246    101   公立  一般大學     3                 國立臺灣大學  140203         華語教學碩士學位學程   \n",
       "566    101   公立  一般大學     4               國立臺灣師範大學  140101            教育學系學士班   \n",
       "717    101   公立  一般大學     5                 國立成功大學  140101              教育研究所   \n",
       "...    ...  ...   ...   ...                    ...     ...                ...   \n",
       "44710  105   私立  一般大學  1R02  學校財團法人中華浸信會基督教台灣浸會神學院  220805      基督教神學研究所－神道學組   \n",
       "44713  105   私立  一般大學  1R04    財團法人一貫道天皇基金會一貫道天皇學院  220811            一貫道學研究所   \n",
       "44714  105   私立  一般大學  1R05       台神學校財團法人台灣神學研究學院  220805  基督教研究所－基督教研究道學碩士班   \n",
       "44716  105   私立  一般大學  1R06                一貫道崇德學院  220811             一貫道研究所   \n",
       "46950  105   私立  技專校院  1168                 南亞技術學院  220339              觀光英語科   \n",
       "\n",
       "            學制  正式學籍在學學生人數   男    女  \n",
       "0      學士班(日間)         234  75  159  \n",
       "143    碩士班(日間)          33   4   29  \n",
       "246    碩士班(日間)          16   5   11  \n",
       "566    學士班(日間)         255  57  198  \n",
       "717    碩士班(日間)          57  12   45  \n",
       "...        ...         ...  ..  ...  \n",
       "44710  碩士班(日間)          26  14   12  \n",
       "44713  碩士班(日間)          27   7   20  \n",
       "44714  碩士班(日間)          10   3    7  \n",
       "44716  碩士班(日間)          13   8    5  \n",
       "46950       五專          44  17   27  \n",
       "\n",
       "[182 rows x 11 columns]"
      ]
     },
     "execution_count": 6,
     "metadata": {},
     "output_type": "execute_result"
    }
   ],
   "source": [
    "# 總共有182間學校的資料\n",
    "studentData.drop_duplicates(subset=['學校名稱'])"
   ]
  },
  {
   "cell_type": "code",
   "execution_count": 7,
   "metadata": {},
   "outputs": [
    {
     "data": {
      "text/plain": [
       "5"
      ]
     },
     "execution_count": 7,
     "metadata": {},
     "output_type": "execute_result"
    }
   ],
   "source": [
    "len(studentData.drop_duplicates(subset=['學年度']))"
   ]
  },
  {
   "cell_type": "code",
   "execution_count": 8,
   "metadata": {},
   "outputs": [
    {
     "data": {
      "text/plain": [
       "學年度           False\n",
       "設立別           False\n",
       "學校類別          False\n",
       "學校代碼          False\n",
       "學校名稱          False\n",
       "系所代碼          False\n",
       "系所名稱          False\n",
       "學制            False\n",
       "正式學籍在學學生人數    False\n",
       "男             False\n",
       "女             False\n",
       "dtype: bool"
      ]
     },
     "execution_count": 8,
     "metadata": {},
     "output_type": "execute_result"
    }
   ],
   "source": [
    "studentData.isnull().any()"
   ]
  },
  {
   "cell_type": "code",
   "execution_count": 9,
   "metadata": {},
   "outputs": [
    {
     "data": {
      "text/html": [
       "<div>\n",
       "<style scoped>\n",
       "    .dataframe tbody tr th:only-of-type {\n",
       "        vertical-align: middle;\n",
       "    }\n",
       "\n",
       "    .dataframe tbody tr th {\n",
       "        vertical-align: top;\n",
       "    }\n",
       "\n",
       "    .dataframe thead th {\n",
       "        text-align: right;\n",
       "    }\n",
       "</style>\n",
       "<table border=\"1\" class=\"dataframe\">\n",
       "  <thead>\n",
       "    <tr style=\"text-align: right;\">\n",
       "      <th></th>\n",
       "      <th>學年度</th>\n",
       "      <th>正式學籍在學學生人數</th>\n",
       "      <th>男</th>\n",
       "      <th>女</th>\n",
       "    </tr>\n",
       "  </thead>\n",
       "  <tbody>\n",
       "    <tr>\n",
       "      <th>count</th>\n",
       "      <td>47368.00000</td>\n",
       "      <td>47368.000000</td>\n",
       "      <td>47368.000000</td>\n",
       "      <td>47368.000000</td>\n",
       "    </tr>\n",
       "    <tr>\n",
       "      <th>mean</th>\n",
       "      <td>103.00057</td>\n",
       "      <td>141.108027</td>\n",
       "      <td>70.331637</td>\n",
       "      <td>70.776389</td>\n",
       "    </tr>\n",
       "    <tr>\n",
       "      <th>std</th>\n",
       "      <td>1.42122</td>\n",
       "      <td>187.144406</td>\n",
       "      <td>97.824790</td>\n",
       "      <td>131.117057</td>\n",
       "    </tr>\n",
       "    <tr>\n",
       "      <th>min</th>\n",
       "      <td>101.00000</td>\n",
       "      <td>1.000000</td>\n",
       "      <td>0.000000</td>\n",
       "      <td>0.000000</td>\n",
       "    </tr>\n",
       "    <tr>\n",
       "      <th>25%</th>\n",
       "      <td>102.00000</td>\n",
       "      <td>27.000000</td>\n",
       "      <td>12.000000</td>\n",
       "      <td>8.000000</td>\n",
       "    </tr>\n",
       "    <tr>\n",
       "      <th>50%</th>\n",
       "      <td>103.00000</td>\n",
       "      <td>63.000000</td>\n",
       "      <td>31.000000</td>\n",
       "      <td>25.000000</td>\n",
       "    </tr>\n",
       "    <tr>\n",
       "      <th>75%</th>\n",
       "      <td>104.00000</td>\n",
       "      <td>199.000000</td>\n",
       "      <td>89.000000</td>\n",
       "      <td>83.000000</td>\n",
       "    </tr>\n",
       "    <tr>\n",
       "      <th>max</th>\n",
       "      <td>105.00000</td>\n",
       "      <td>3559.000000</td>\n",
       "      <td>1275.000000</td>\n",
       "      <td>3240.000000</td>\n",
       "    </tr>\n",
       "  </tbody>\n",
       "</table>\n",
       "</div>"
      ],
      "text/plain": [
       "               學年度    正式學籍在學學生人數             男             女\n",
       "count  47368.00000  47368.000000  47368.000000  47368.000000\n",
       "mean     103.00057    141.108027     70.331637     70.776389\n",
       "std        1.42122    187.144406     97.824790    131.117057\n",
       "min      101.00000      1.000000      0.000000      0.000000\n",
       "25%      102.00000     27.000000     12.000000      8.000000\n",
       "50%      103.00000     63.000000     31.000000     25.000000\n",
       "75%      104.00000    199.000000     89.000000     83.000000\n",
       "max      105.00000   3559.000000   1275.000000   3240.000000"
      ]
     },
     "execution_count": 9,
     "metadata": {},
     "output_type": "execute_result"
    }
   ],
   "source": [
    "studentData.describe()"
   ]
  },
  {
   "cell_type": "code",
   "execution_count": 10,
   "metadata": {},
   "outputs": [
    {
     "data": {
      "text/html": [
       "<div>\n",
       "<style scoped>\n",
       "    .dataframe tbody tr th:only-of-type {\n",
       "        vertical-align: middle;\n",
       "    }\n",
       "\n",
       "    .dataframe tbody tr th {\n",
       "        vertical-align: top;\n",
       "    }\n",
       "\n",
       "    .dataframe thead th {\n",
       "        text-align: right;\n",
       "    }\n",
       "</style>\n",
       "<table border=\"1\" class=\"dataframe\">\n",
       "  <thead>\n",
       "    <tr style=\"text-align: right;\">\n",
       "      <th></th>\n",
       "      <th></th>\n",
       "      <th>正式學籍在學學生人數</th>\n",
       "      <th>男</th>\n",
       "      <th>女</th>\n",
       "    </tr>\n",
       "    <tr>\n",
       "      <th>學校名稱</th>\n",
       "      <th>學年度</th>\n",
       "      <th></th>\n",
       "      <th></th>\n",
       "      <th></th>\n",
       "    </tr>\n",
       "  </thead>\n",
       "  <tbody>\n",
       "    <tr>\n",
       "      <th>一貫道天皇學院</th>\n",
       "      <th>104</th>\n",
       "      <td>12</td>\n",
       "      <td>2</td>\n",
       "      <td>10</td>\n",
       "    </tr>\n",
       "    <tr>\n",
       "      <th>一貫道崇德學院</th>\n",
       "      <th>105</th>\n",
       "      <td>13</td>\n",
       "      <td>8</td>\n",
       "      <td>5</td>\n",
       "    </tr>\n",
       "    <tr>\n",
       "      <th rowspan=\"3\" valign=\"top\">世新大學</th>\n",
       "      <th>101</th>\n",
       "      <td>11819</td>\n",
       "      <td>4621</td>\n",
       "      <td>7198</td>\n",
       "    </tr>\n",
       "    <tr>\n",
       "      <th>102</th>\n",
       "      <td>11786</td>\n",
       "      <td>4650</td>\n",
       "      <td>7136</td>\n",
       "    </tr>\n",
       "    <tr>\n",
       "      <th>103</th>\n",
       "      <td>11889</td>\n",
       "      <td>4667</td>\n",
       "      <td>7222</td>\n",
       "    </tr>\n",
       "    <tr>\n",
       "      <th>...</th>\n",
       "      <th>...</th>\n",
       "      <td>...</td>\n",
       "      <td>...</td>\n",
       "      <td>...</td>\n",
       "    </tr>\n",
       "    <tr>\n",
       "      <th rowspan=\"5\" valign=\"top\">龍華科技大學</th>\n",
       "      <th>101</th>\n",
       "      <td>10919</td>\n",
       "      <td>7244</td>\n",
       "      <td>3675</td>\n",
       "    </tr>\n",
       "    <tr>\n",
       "      <th>102</th>\n",
       "      <td>11027</td>\n",
       "      <td>7258</td>\n",
       "      <td>3769</td>\n",
       "    </tr>\n",
       "    <tr>\n",
       "      <th>103</th>\n",
       "      <td>11254</td>\n",
       "      <td>7454</td>\n",
       "      <td>3800</td>\n",
       "    </tr>\n",
       "    <tr>\n",
       "      <th>104</th>\n",
       "      <td>11168</td>\n",
       "      <td>7392</td>\n",
       "      <td>3776</td>\n",
       "    </tr>\n",
       "    <tr>\n",
       "      <th>105</th>\n",
       "      <td>11105</td>\n",
       "      <td>7388</td>\n",
       "      <td>3717</td>\n",
       "    </tr>\n",
       "  </tbody>\n",
       "</table>\n",
       "<p>814 rows × 3 columns</p>\n",
       "</div>"
      ],
      "text/plain": [
       "             正式學籍在學學生人數     男     女\n",
       "學校名稱    學年度                        \n",
       "一貫道天皇學院 104          12     2    10\n",
       "一貫道崇德學院 105          13     8     5\n",
       "世新大學    101       11819  4621  7198\n",
       "        102       11786  4650  7136\n",
       "        103       11889  4667  7222\n",
       "...                 ...   ...   ...\n",
       "龍華科技大學  101       10919  7244  3675\n",
       "        102       11027  7258  3769\n",
       "        103       11254  7454  3800\n",
       "        104       11168  7392  3776\n",
       "        105       11105  7388  3717\n",
       "\n",
       "[814 rows x 3 columns]"
      ]
     },
     "execution_count": 10,
     "metadata": {},
     "output_type": "execute_result"
    }
   ],
   "source": [
    "studentDataGroup = studentData.groupby(['學校名稱','學年度']).sum()\n",
    "studentDataGroup"
   ]
  },
  {
   "cell_type": "code",
   "execution_count": 11,
   "metadata": {},
   "outputs": [
    {
     "data": {
      "text/html": [
       "<div>\n",
       "<style scoped>\n",
       "    .dataframe tbody tr th:only-of-type {\n",
       "        vertical-align: middle;\n",
       "    }\n",
       "\n",
       "    .dataframe tbody tr th {\n",
       "        vertical-align: top;\n",
       "    }\n",
       "\n",
       "    .dataframe thead th {\n",
       "        text-align: right;\n",
       "    }\n",
       "</style>\n",
       "<table border=\"1\" class=\"dataframe\">\n",
       "  <thead>\n",
       "    <tr style=\"text-align: right;\">\n",
       "      <th></th>\n",
       "      <th>學年度</th>\n",
       "      <th>設立別</th>\n",
       "      <th>學校類別</th>\n",
       "      <th>學校代碼</th>\n",
       "      <th>學校名稱</th>\n",
       "      <th>系所代碼</th>\n",
       "      <th>系所名稱</th>\n",
       "      <th>學制</th>\n",
       "      <th>正式學籍在學學生人數</th>\n",
       "      <th>男</th>\n",
       "      <th>女</th>\n",
       "    </tr>\n",
       "  </thead>\n",
       "  <tbody>\n",
       "    <tr>\n",
       "      <th>3263</th>\n",
       "      <td>101</td>\n",
       "      <td>公立</td>\n",
       "      <td>技專校院</td>\n",
       "      <td>24</td>\n",
       "      <td>國立屏東科技大學</td>\n",
       "      <td>140113</td>\n",
       "      <td>技術及職業教育研究所</td>\n",
       "      <td>碩士班(日間)</td>\n",
       "      <td>44</td>\n",
       "      <td>19</td>\n",
       "      <td>25</td>\n",
       "    </tr>\n",
       "    <tr>\n",
       "      <th>3264</th>\n",
       "      <td>101</td>\n",
       "      <td>公立</td>\n",
       "      <td>技專校院</td>\n",
       "      <td>24</td>\n",
       "      <td>國立屏東科技大學</td>\n",
       "      <td>140113</td>\n",
       "      <td>技術及職業教育研究所</td>\n",
       "      <td>碩士在職專班</td>\n",
       "      <td>40</td>\n",
       "      <td>11</td>\n",
       "      <td>29</td>\n",
       "    </tr>\n",
       "    <tr>\n",
       "      <th>3265</th>\n",
       "      <td>101</td>\n",
       "      <td>公立</td>\n",
       "      <td>技專校院</td>\n",
       "      <td>24</td>\n",
       "      <td>國立屏東科技大學</td>\n",
       "      <td>220303</td>\n",
       "      <td>應用外語系</td>\n",
       "      <td>學士班(日間)</td>\n",
       "      <td>200</td>\n",
       "      <td>39</td>\n",
       "      <td>161</td>\n",
       "    </tr>\n",
       "    <tr>\n",
       "      <th>3266</th>\n",
       "      <td>101</td>\n",
       "      <td>公立</td>\n",
       "      <td>技專校院</td>\n",
       "      <td>24</td>\n",
       "      <td>國立屏東科技大學</td>\n",
       "      <td>220303</td>\n",
       "      <td>應用外語系</td>\n",
       "      <td>碩士班(日間)</td>\n",
       "      <td>20</td>\n",
       "      <td>8</td>\n",
       "      <td>12</td>\n",
       "    </tr>\n",
       "    <tr>\n",
       "      <th>3267</th>\n",
       "      <td>101</td>\n",
       "      <td>公立</td>\n",
       "      <td>技專校院</td>\n",
       "      <td>24</td>\n",
       "      <td>國立屏東科技大學</td>\n",
       "      <td>230104</td>\n",
       "      <td>時尚設計與管理系</td>\n",
       "      <td>學士班(日間)</td>\n",
       "      <td>251</td>\n",
       "      <td>10</td>\n",
       "      <td>241</td>\n",
       "    </tr>\n",
       "    <tr>\n",
       "      <th>...</th>\n",
       "      <td>...</td>\n",
       "      <td>...</td>\n",
       "      <td>...</td>\n",
       "      <td>...</td>\n",
       "      <td>...</td>\n",
       "      <td>...</td>\n",
       "      <td>...</td>\n",
       "      <td>...</td>\n",
       "      <td>...</td>\n",
       "      <td>...</td>\n",
       "      <td>...</td>\n",
       "    </tr>\n",
       "    <tr>\n",
       "      <th>41290</th>\n",
       "      <td>105</td>\n",
       "      <td>公立</td>\n",
       "      <td>技專校院</td>\n",
       "      <td>24</td>\n",
       "      <td>國立屏東科技大學</td>\n",
       "      <td>810533</td>\n",
       "      <td>休閒運動健康系_實用休閒觀光專班</td>\n",
       "      <td>學士班(進修)</td>\n",
       "      <td>35</td>\n",
       "      <td>15</td>\n",
       "      <td>20</td>\n",
       "    </tr>\n",
       "    <tr>\n",
       "      <th>41291</th>\n",
       "      <td>105</td>\n",
       "      <td>公立</td>\n",
       "      <td>技專校院</td>\n",
       "      <td>24</td>\n",
       "      <td>國立屏東科技大學</td>\n",
       "      <td>810533</td>\n",
       "      <td>休閒運動健康系</td>\n",
       "      <td>碩士班(日間)</td>\n",
       "      <td>27</td>\n",
       "      <td>16</td>\n",
       "      <td>11</td>\n",
       "    </tr>\n",
       "    <tr>\n",
       "      <th>41292</th>\n",
       "      <td>105</td>\n",
       "      <td>公立</td>\n",
       "      <td>技專校院</td>\n",
       "      <td>24</td>\n",
       "      <td>國立屏東科技大學</td>\n",
       "      <td>810533</td>\n",
       "      <td>休閒運動健康系</td>\n",
       "      <td>碩士在職專班</td>\n",
       "      <td>43</td>\n",
       "      <td>28</td>\n",
       "      <td>15</td>\n",
       "    </tr>\n",
       "    <tr>\n",
       "      <th>41293</th>\n",
       "      <td>105</td>\n",
       "      <td>公立</td>\n",
       "      <td>技專校院</td>\n",
       "      <td>24</td>\n",
       "      <td>國立屏東科技大學</td>\n",
       "      <td>819977</td>\n",
       "      <td>餐旅管理系_實用餐旅恒春專班</td>\n",
       "      <td>學士班(進修)</td>\n",
       "      <td>76</td>\n",
       "      <td>35</td>\n",
       "      <td>41</td>\n",
       "    </tr>\n",
       "    <tr>\n",
       "      <th>41294</th>\n",
       "      <td>105</td>\n",
       "      <td>公立</td>\n",
       "      <td>技專校院</td>\n",
       "      <td>24</td>\n",
       "      <td>國立屏東科技大學</td>\n",
       "      <td>819977</td>\n",
       "      <td>餐旅管理系_精緻餐旅恆春專班</td>\n",
       "      <td>學士班(進修)</td>\n",
       "      <td>39</td>\n",
       "      <td>13</td>\n",
       "      <td>26</td>\n",
       "    </tr>\n",
       "  </tbody>\n",
       "</table>\n",
       "<p>517 rows × 11 columns</p>\n",
       "</div>"
      ],
      "text/plain": [
       "       學年度 設立別   學校類別 學校代碼      學校名稱    系所代碼              系所名稱       學制  \\\n",
       "3263   101   公立  技專校院   24  國立屏東科技大學  140113        技術及職業教育研究所  碩士班(日間)   \n",
       "3264   101   公立  技專校院   24  國立屏東科技大學  140113        技術及職業教育研究所   碩士在職專班   \n",
       "3265   101   公立  技專校院   24  國立屏東科技大學  220303             應用外語系  學士班(日間)   \n",
       "3266   101   公立  技專校院   24  國立屏東科技大學  220303             應用外語系  碩士班(日間)   \n",
       "3267   101   公立  技專校院   24  國立屏東科技大學  230104          時尚設計與管理系  學士班(日間)   \n",
       "...    ...  ...   ...  ...       ...     ...               ...      ...   \n",
       "41290  105   公立  技專校院   24  國立屏東科技大學  810533  休閒運動健康系_實用休閒觀光專班  學士班(進修)   \n",
       "41291  105   公立  技專校院   24  國立屏東科技大學  810533           休閒運動健康系  碩士班(日間)   \n",
       "41292  105   公立  技專校院   24  國立屏東科技大學  810533           休閒運動健康系   碩士在職專班   \n",
       "41293  105   公立  技專校院   24  國立屏東科技大學  819977    餐旅管理系_實用餐旅恒春專班  學士班(進修)   \n",
       "41294  105   公立  技專校院   24  國立屏東科技大學  819977    餐旅管理系_精緻餐旅恆春專班  學士班(進修)   \n",
       "\n",
       "       正式學籍在學學生人數   男    女  \n",
       "3263           44  19   25  \n",
       "3264           40  11   29  \n",
       "3265          200  39  161  \n",
       "3266           20   8   12  \n",
       "3267          251  10  241  \n",
       "...           ...  ..  ...  \n",
       "41290          35  15   20  \n",
       "41291          27  16   11  \n",
       "41292          43  28   15  \n",
       "41293          76  35   41  \n",
       "41294          39  13   26  \n",
       "\n",
       "[517 rows x 11 columns]"
      ]
     },
     "execution_count": 11,
     "metadata": {},
     "output_type": "execute_result"
    }
   ],
   "source": [
    "studentDataNpust = studentData[studentData['學校名稱'] == '國立屏東科技大學']\n",
    "studentDataNpust"
   ]
  },
  {
   "cell_type": "markdown",
   "metadata": {},
   "source": [
    "## 查看屏科105學年度科系人數多寡"
   ]
  },
  {
   "cell_type": "code",
   "execution_count": 12,
   "metadata": {},
   "outputs": [],
   "source": [
    "import matplotlib as mpl\n",
    "import matplotlib.pyplot as plt \n",
    "from matplotlib.font_manager import fontManager\n",
    "\n",
    "# 加入中文字型，不然會錯誤\n",
    "fontManager.addfont('TaipeiSansTCBeta-Regular.ttf')\n",
    "mpl.rc('font', family='Taipei Sans TC Beta')"
   ]
  },
  {
   "cell_type": "code",
   "execution_count": 13,
   "metadata": {},
   "outputs": [
    {
     "data": {
      "text/plain": [
       "<BarContainer object of 110 artists>"
      ]
     },
     "execution_count": 13,
     "metadata": {},
     "output_type": "execute_result"
    },
    {
     "data": {
      "image/png": "[encoded data removed]",
      "text/plain": [
       "<Figure size 720x2160 with 1 Axes>"
      ]
     },
     "metadata": {
      "needs_background": "light"
     },
     "output_type": "display_data"
    }
   ],
   "source": [
    "x = studentDataNpust[studentDataNpust['學年度'] == 105]['系所名稱']\n",
    "y = studentDataNpust[studentDataNpust['學年度'] == 105]['正式學籍在學學生人數']\n",
    "\n",
    "fig, ax = plt.subplots(figsize=(10, 30))\n",
    "ax.barh(x, y)"
   ]
  },
  {
   "cell_type": "markdown",
   "metadata": {},
   "source": [
    "## 查看屏科總人數變化"
   ]
  },
  {
   "cell_type": "code",
   "execution_count": 14,
   "metadata": {},
   "outputs": [
    {
     "data": {
      "text/html": [
       "<div>\n",
       "<style scoped>\n",
       "    .dataframe tbody tr th:only-of-type {\n",
       "        vertical-align: middle;\n",
       "    }\n",
       "\n",
       "    .dataframe tbody tr th {\n",
       "        vertical-align: top;\n",
       "    }\n",
       "\n",
       "    .dataframe thead th {\n",
       "        text-align: right;\n",
       "    }\n",
       "</style>\n",
       "<table border=\"1\" class=\"dataframe\">\n",
       "  <thead>\n",
       "    <tr style=\"text-align: right;\">\n",
       "      <th></th>\n",
       "      <th>正式學籍在學學生人數</th>\n",
       "      <th>男</th>\n",
       "      <th>女</th>\n",
       "    </tr>\n",
       "    <tr>\n",
       "      <th>學年度</th>\n",
       "      <th></th>\n",
       "      <th></th>\n",
       "      <th></th>\n",
       "    </tr>\n",
       "  </thead>\n",
       "  <tbody>\n",
       "    <tr>\n",
       "      <th>101</th>\n",
       "      <td>11582</td>\n",
       "      <td>6033</td>\n",
       "      <td>5549</td>\n",
       "    </tr>\n",
       "    <tr>\n",
       "      <th>102</th>\n",
       "      <td>11558</td>\n",
       "      <td>6066</td>\n",
       "      <td>5492</td>\n",
       "    </tr>\n",
       "    <tr>\n",
       "      <th>103</th>\n",
       "      <td>11382</td>\n",
       "      <td>5974</td>\n",
       "      <td>5408</td>\n",
       "    </tr>\n",
       "    <tr>\n",
       "      <th>104</th>\n",
       "      <td>11454</td>\n",
       "      <td>6078</td>\n",
       "      <td>5376</td>\n",
       "    </tr>\n",
       "    <tr>\n",
       "      <th>105</th>\n",
       "      <td>11350</td>\n",
       "      <td>6092</td>\n",
       "      <td>5258</td>\n",
       "    </tr>\n",
       "  </tbody>\n",
       "</table>\n",
       "</div>"
      ],
      "text/plain": [
       "     正式學籍在學學生人數     男     女\n",
       "學年度                        \n",
       "101       11582  6033  5549\n",
       "102       11558  6066  5492\n",
       "103       11382  5974  5408\n",
       "104       11454  6078  5376\n",
       "105       11350  6092  5258"
      ]
     },
     "execution_count": 14,
     "metadata": {},
     "output_type": "execute_result"
    }
   ],
   "source": [
    "studentDataNpustGroup = studentDataNpust.groupby(['學年度']).sum()\n",
    "studentDataNpustGroup"
   ]
  },
  {
   "cell_type": "code",
   "execution_count": 15,
   "metadata": {},
   "outputs": [
    {
     "data": {
      "text/plain": [
       "學年度\n",
       "101    11582\n",
       "102    11558\n",
       "103    11382\n",
       "104    11454\n",
       "105    11350\n",
       "Name: 正式學籍在學學生人數, dtype: int64"
      ]
     },
     "execution_count": 15,
     "metadata": {},
     "output_type": "execute_result"
    }
   ],
   "source": [
    "studentDataNpustGroup['正式學籍在學學生人數']"
   ]
  },
  {
   "cell_type": "code",
   "execution_count": 16,
   "metadata": {},
   "outputs": [
    {
     "data": {
      "image/png": "[encoded data removed]",
      "text/plain": [
       "<Figure size 432x288 with 1 Axes>"
      ]
     },
     "metadata": {
      "needs_background": "light"
     },
     "output_type": "display_data"
    }
   ],
   "source": [
    "x = np.arange(101,106)\n",
    "y = []\n",
    "for i in x:\n",
    "    y.append(studentDataNpustGroup['正式學籍在學學生人數'][i])\n",
    "plt.title(\"屏科總人數變化\") \n",
    "plt.xlabel(\"學年度\") \n",
    "plt.ylabel(\"人數\") \n",
    "plt.plot(x,y) \n",
    "plt.show()"
   ]
  },
  {
   "cell_type": "markdown",
   "metadata": {},
   "source": [
    "## 使用ARIMA演算法訓練101-104年人數，預測105年屏科學生人數"
   ]
  },
  {
   "cell_type": "code",
   "execution_count": 17,
   "metadata": {},
   "outputs": [],
   "source": [
    "# pip install statsmodels==0.11.0"
   ]
  },
  {
   "cell_type": "code",
   "execution_count": 18,
   "metadata": {},
   "outputs": [],
   "source": [
    "from statsmodels.tsa.arima_model import ARIMA"
   ]
  },
  {
   "cell_type": "code",
   "execution_count": 19,
   "metadata": {},
   "outputs": [
    {
     "data": {
      "text/plain": [
       "[11582, 11558, 11382, 11454, 11350]"
      ]
     },
     "execution_count": 19,
     "metadata": {},
     "output_type": "execute_result"
    }
   ],
   "source": [
    "y"
   ]
  },
  {
   "cell_type": "code",
   "execution_count": 20,
   "metadata": {},
   "outputs": [
    {
     "data": {
      "text/plain": [
       "[11582, 11558, 11382, 11454]"
      ]
     },
     "execution_count": 20,
     "metadata": {},
     "output_type": "execute_result"
    }
   ],
   "source": [
    "y_train = y[0:len(y)-1]\n",
    "y_train"
   ]
  },
  {
   "cell_type": "code",
   "execution_count": 21,
   "metadata": {},
   "outputs": [
    {
     "data": {
      "text/plain": [
       "[11350]"
      ]
     },
     "execution_count": 21,
     "metadata": {},
     "output_type": "execute_result"
    }
   ],
   "source": [
    "y_ans = y[len(y)-1:len(y)]\n",
    "y_ans"
   ]
  },
  {
   "cell_type": "code",
   "execution_count": 22,
   "metadata": {},
   "outputs": [
    {
     "name": "stdout",
     "output_type": "stream",
     "text": [
      "                              ARMA Model Results                              \n",
      "==============================================================================\n",
      "Dep. Variable:                      y   No. Observations:                    4\n",
      "Model:                     ARMA(1, 0)   Log Likelihood                 -23.204\n",
      "Method:                       css-mle   S.D. of innovations             79.828\n",
      "Date:                Mon, 03 Jan 2022   AIC                             52.408\n",
      "Time:                        17:00:19   BIC                             50.567\n",
      "Sample:                             0   HQIC                            48.367\n",
      "                                                                              \n",
      "==============================================================================\n",
      "                 coef    std err          z      P>|z|      [0.025      0.975]\n",
      "------------------------------------------------------------------------------\n",
      "const        1.15e+04     44.853    256.295      0.000    1.14e+04    1.16e+04\n",
      "ar.L1.y        0.1302      0.528      0.247      0.805      -0.905       1.165\n",
      "                                    Roots                                    \n",
      "=============================================================================\n",
      "                  Real          Imaginary           Modulus         Frequency\n",
      "-----------------------------------------------------------------------------\n",
      "AR.1            7.6794           +0.0000j            7.6794            0.0000\n",
      "-----------------------------------------------------------------------------\n"
     ]
    }
   ],
   "source": [
    "model = ARIMA(y_train, order=(1,0,0))\n",
    "model_fit = model.fit()\n",
    "print(model_fit.summary())"
   ]
  },
  {
   "cell_type": "code",
   "execution_count": 41,
   "metadata": {},
   "outputs": [
    {
     "name": "stdout",
     "output_type": "stream",
     "text": [
      "11490\n"
     ]
    }
   ],
   "source": [
    "# make prediction\n",
    "arima_predict = model_fit.predict(len(y_train), len(y_train), typ='levels')\n",
    "print(int(arima_predict))"
   ]
  },
  {
   "cell_type": "code",
   "execution_count": 44,
   "metadata": {},
   "outputs": [
    {
     "data": {
      "text/plain": [
       "[11350]"
      ]
     },
     "execution_count": 44,
     "metadata": {},
     "output_type": "execute_result"
    }
   ],
   "source": [
    "y_ans"
   ]
  },
  {
   "cell_type": "markdown",
   "metadata": {},
   "source": [
    "## 使用LSTM演算法訓練101-104年人數，預測105年屏科學生人數"
   ]
  },
  {
   "cell_type": "code",
   "execution_count": 25,
   "metadata": {},
   "outputs": [
    {
     "data": {
      "text/html": [
       "<div>\n",
       "<style scoped>\n",
       "    .dataframe tbody tr th:only-of-type {\n",
       "        vertical-align: middle;\n",
       "    }\n",
       "\n",
       "    .dataframe tbody tr th {\n",
       "        vertical-align: top;\n",
       "    }\n",
       "\n",
       "    .dataframe thead th {\n",
       "        text-align: right;\n",
       "    }\n",
       "</style>\n",
       "<table border=\"1\" class=\"dataframe\">\n",
       "  <thead>\n",
       "    <tr style=\"text-align: right;\">\n",
       "      <th></th>\n",
       "      <th>學年度</th>\n",
       "      <th>男</th>\n",
       "      <th>女</th>\n",
       "    </tr>\n",
       "  </thead>\n",
       "  <tbody>\n",
       "    <tr>\n",
       "      <th>0</th>\n",
       "      <td>101</td>\n",
       "      <td>6033</td>\n",
       "      <td>5549</td>\n",
       "    </tr>\n",
       "    <tr>\n",
       "      <th>1</th>\n",
       "      <td>102</td>\n",
       "      <td>6066</td>\n",
       "      <td>5492</td>\n",
       "    </tr>\n",
       "    <tr>\n",
       "      <th>2</th>\n",
       "      <td>103</td>\n",
       "      <td>5974</td>\n",
       "      <td>5408</td>\n",
       "    </tr>\n",
       "    <tr>\n",
       "      <th>3</th>\n",
       "      <td>104</td>\n",
       "      <td>6078</td>\n",
       "      <td>5376</td>\n",
       "    </tr>\n",
       "    <tr>\n",
       "      <th>4</th>\n",
       "      <td>105</td>\n",
       "      <td>6092</td>\n",
       "      <td>5258</td>\n",
       "    </tr>\n",
       "  </tbody>\n",
       "</table>\n",
       "</div>"
      ],
      "text/plain": [
       "   學年度     男     女\n",
       "0  101  6033  5549\n",
       "1  102  6066  5492\n",
       "2  103  5974  5408\n",
       "3  104  6078  5376\n",
       "4  105  6092  5258"
      ]
     },
     "execution_count": 25,
     "metadata": {},
     "output_type": "execute_result"
    }
   ],
   "source": [
    "studentDataNpustGroup = studentDataNpust.groupby(['學年度']).sum().reset_index()\n",
    "studentDataNpustGroup = studentDataNpustGroup.drop(columns='正式學籍在學學生人數')\n",
    "studentDataNpustGroup"
   ]
  },
  {
   "cell_type": "code",
   "execution_count": 26,
   "metadata": {},
   "outputs": [
    {
     "name": "stdout",
     "output_type": "stream",
     "text": [
      "Model: \"sequential\"\n",
      "_________________________________________________________________\n",
      "Layer (type)                 Output Shape              Param #   \n",
      "=================================================================\n",
      "lstm (LSTM)                  (None, 50)                10400     \n",
      "_________________________________________________________________\n",
      "dense (Dense)                (None, 1)                 51        \n",
      "=================================================================\n",
      "Total params: 10,451\n",
      "Trainable params: 10,451\n",
      "Non-trainable params: 0\n",
      "_________________________________________________________________\n"
     ]
    }
   ],
   "source": [
    "from tensorflow.keras.models import Sequential\n",
    "from tensorflow.keras.layers import Dense\n",
    "from tensorflow.keras.layers import LSTM\n",
    "\n",
    "# define model\n",
    "model = Sequential()\n",
    "model.add(LSTM(50, activation='relu', input_shape=(3, 1)))\n",
    "model.add(Dense(1))\n",
    "model.compile(optimizer='adam', loss='mse')\n",
    "\n",
    "model.summary()"
   ]
  },
  {
   "cell_type": "code",
   "execution_count": 27,
   "metadata": {},
   "outputs": [],
   "source": [
    "n_features = 1\n",
    "X = studentDataNpustGroup.values.reshape((studentDataNpustGroup.values.shape[0], studentDataNpustGroup.values.shape[1], n_features))"
   ]
  },
  {
   "cell_type": "code",
   "execution_count": 28,
   "metadata": {},
   "outputs": [
    {
     "data": {
      "text/plain": [
       "array([[[ 101],\n",
       "        [6033],\n",
       "        [5549]],\n",
       "\n",
       "       [[ 102],\n",
       "        [6066],\n",
       "        [5492]],\n",
       "\n",
       "       [[ 103],\n",
       "        [5974],\n",
       "        [5408]],\n",
       "\n",
       "       [[ 104],\n",
       "        [6078],\n",
       "        [5376]]], dtype=int64)"
      ]
     },
     "execution_count": 28,
     "metadata": {},
     "output_type": "execute_result"
    }
   ],
   "source": [
    "X_train = X[0:len(X)-1]\n",
    "X_train"
   ]
  },
  {
   "cell_type": "code",
   "execution_count": 29,
   "metadata": {},
   "outputs": [
    {
     "data": {
      "text/plain": [
       "array([[[ 105],\n",
       "        [6092],\n",
       "        [5258]]], dtype=int64)"
      ]
     },
     "execution_count": 29,
     "metadata": {},
     "output_type": "execute_result"
    }
   ],
   "source": [
    "X_ans = X[len(X)-1:len(X)]\n",
    "X_ans "
   ]
  },
  {
   "cell_type": "code",
   "execution_count": 30,
   "metadata": {},
   "outputs": [
    {
     "data": {
      "text/plain": [
       "array([11582, 11558, 11382, 11454, 11350], dtype=int64)"
      ]
     },
     "execution_count": 30,
     "metadata": {},
     "output_type": "execute_result"
    }
   ],
   "source": [
    "arr_y= np.array(y)\n",
    "arr_y"
   ]
  },
  {
   "cell_type": "code",
   "execution_count": 31,
   "metadata": {},
   "outputs": [
    {
     "data": {
      "text/plain": [
       "array([11582, 11558, 11382, 11454], dtype=int64)"
      ]
     },
     "execution_count": 31,
     "metadata": {},
     "output_type": "execute_result"
    }
   ],
   "source": [
    "arr_y_train = arr_y[0:len(arr_y)-1]\n",
    "arr_y_train"
   ]
  },
  {
   "cell_type": "code",
   "execution_count": 32,
   "metadata": {},
   "outputs": [
    {
     "data": {
      "text/plain": [
       "array([11350], dtype=int64)"
      ]
     },
     "execution_count": 32,
     "metadata": {},
     "output_type": "execute_result"
    }
   ],
   "source": [
    "arr_y_ans = arr_y[len(arr_y)-1:len(arr_y)]\n",
    "arr_y_ans"
   ]
  },
  {
   "cell_type": "code",
   "execution_count": 33,
   "metadata": {},
   "outputs": [
    {
     "name": "stdout",
     "output_type": "stream",
     "text": [
      "Epoch 1/50\n",
      "4/4 [==============================] - 0s 1ms/step - loss: 141146473.6000\n",
      "Epoch 2/50\n",
      "4/4 [==============================] - 0s 997us/step - loss: 125218136.0000\n",
      "Epoch 3/50\n",
      "4/4 [==============================] - 0s 997us/step - loss: 120738220.8000\n",
      "Epoch 4/50\n",
      "4/4 [==============================] - 0s 998us/step - loss: 117254699.2000\n",
      "Epoch 5/50\n",
      "4/4 [==============================] - 0s 997us/step - loss: 114997683.2000\n",
      "Epoch 6/50\n",
      "4/4 [==============================] - 0s 997us/step - loss: 110606372.8000\n",
      "Epoch 7/50\n",
      "4/4 [==============================] - 0s 997us/step - loss: 107589288.0000\n",
      "Epoch 8/50\n",
      "4/4 [==============================] - 0s 997us/step - loss: 105501870.4000\n",
      "Epoch 9/50\n",
      "4/4 [==============================] - 0s 998us/step - loss: 100641988.8000\n",
      "Epoch 10/50\n",
      "4/4 [==============================] - 0s 997us/step - loss: 97359628.8000\n",
      "Epoch 11/50\n",
      "4/4 [==============================] - 0s 998us/step - loss: 93684889.6000\n",
      "Epoch 12/50\n",
      "4/4 [==============================] - 0s 998us/step - loss: 92084659.2000\n",
      "Epoch 13/50\n",
      "4/4 [==============================] - 0s 997us/step - loss: 88713332.8000\n",
      "Epoch 14/50\n",
      "4/4 [==============================] - 0s 997us/step - loss: 85984643.2000\n",
      "Epoch 15/50\n",
      "4/4 [==============================] - 0s 997us/step - loss: 83903473.6000\n",
      "Epoch 16/50\n",
      "4/4 [==============================] - 0s 998us/step - loss: 78923876.8000\n",
      "Epoch 17/50\n",
      "4/4 [==============================] - 0s 665us/step - loss: 72194716.8000\n",
      "Epoch 18/50\n",
      "4/4 [==============================] - 0s 997us/step - loss: 68413998.4000\n",
      "Epoch 19/50\n",
      "4/4 [==============================] - 0s 997us/step - loss: 65101014.4000\n",
      "Epoch 20/50\n",
      "4/4 [==============================] - 0s 665us/step - loss: 60967630.4000\n",
      "Epoch 21/50\n",
      "4/4 [==============================] - 0s 998us/step - loss: 56797284.0000\n",
      "Epoch 22/50\n",
      "4/4 [==============================] - 0s 665us/step - loss: 50987395.2000\n",
      "Epoch 23/50\n",
      "4/4 [==============================] - 0s 997us/step - loss: 40839846.4000\n",
      "Epoch 24/50\n",
      "4/4 [==============================] - 0s 665us/step - loss: 32275102.4000\n",
      "Epoch 25/50\n",
      "4/4 [==============================] - 0s 997us/step - loss: 29071020.8000\n",
      "Epoch 26/50\n",
      "4/4 [==============================] - 0s 997us/step - loss: 25786298.4000\n",
      "Epoch 27/50\n",
      "4/4 [==============================] - 0s 665us/step - loss: 19979836.4000\n",
      "Epoch 28/50\n",
      "4/4 [==============================] - 0s 665us/step - loss: 14557727.2000\n",
      "Epoch 29/50\n",
      "4/4 [==============================] - 0s 665us/step - loss: 13334311.8000\n",
      "Epoch 30/50\n",
      "4/4 [==============================] - 0s 665us/step - loss: 9908844.8000\n",
      "Epoch 31/50\n",
      "4/4 [==============================] - 0s 997us/step - loss: 3156865.4000\n",
      "Epoch 32/50\n",
      "4/4 [==============================] - 0s 997us/step - loss: 1572355.6000\n",
      "Epoch 33/50\n",
      "4/4 [==============================] - 0s 665us/step - loss: 627736.2625\n",
      "Epoch 34/50\n",
      "4/4 [==============================] - 0s 997us/step - loss: 118346.8734\n",
      "Epoch 35/50\n",
      "4/4 [==============================] - 0s 665us/step - loss: 13080.7369\n",
      "Epoch 36/50\n",
      "4/4 [==============================] - 0s 665us/step - loss: 23244.9037\n",
      "Epoch 37/50\n",
      "4/4 [==============================] - 0s 665us/step - loss: 72918.8578\n",
      "Epoch 38/50\n",
      "4/4 [==============================] - 0s 997us/step - loss: 114895.3875\n",
      "Epoch 39/50\n",
      "4/4 [==============================] - 0s 997us/step - loss: 100507.6172\n",
      "Epoch 40/50\n",
      "4/4 [==============================] - 0s 664us/step - loss: 73101.2703\n",
      "Epoch 41/50\n",
      "4/4 [==============================] - 0s 997us/step - loss: 43885.4172\n",
      "Epoch 42/50\n",
      "4/4 [==============================] - 0s 665us/step - loss: 23095.1082\n",
      "Epoch 43/50\n",
      "4/4 [==============================] - 0s 665us/step - loss: 6090.7317\n",
      "Epoch 44/50\n",
      "4/4 [==============================] - 0s 997us/step - loss: 4614.5734\n",
      "Epoch 45/50\n",
      "4/4 [==============================] - 0s 997us/step - loss: 540.2650\n",
      "Epoch 46/50\n",
      "4/4 [==============================] - 0s 665us/step - loss: 2309.2669\n",
      "Epoch 47/50\n",
      "4/4 [==============================] - 0s 998us/step - loss: 1623.3848\n",
      "Epoch 48/50\n",
      "4/4 [==============================] - 0s 665us/step - loss: 2121.2870\n",
      "Epoch 49/50\n",
      "4/4 [==============================] - 0s 997us/step - loss: 3225.0335\n",
      "Epoch 50/50\n",
      "4/4 [==============================] - 0s 665us/step - loss: 1635.1229\n"
     ]
    },
    {
     "data": {
      "text/plain": [
       "<tensorflow.python.keras.callbacks.History at 0x283371fb4c8>"
      ]
     },
     "execution_count": 33,
     "metadata": {},
     "output_type": "execute_result"
    }
   ],
   "source": [
    "# fit model\n",
    "model.fit(X_train, arr_y_train, epochs=50, batch_size=1, verbose=1)"
   ]
  },
  {
   "cell_type": "code",
   "execution_count": 34,
   "metadata": {},
   "outputs": [
    {
     "data": {
      "text/plain": [
       "11422"
      ]
     },
     "execution_count": 34,
     "metadata": {},
     "output_type": "execute_result"
    }
   ],
   "source": [
    "# prediction\n",
    "x_input = np.array(X_ans)\n",
    "x_input = x_input.reshape((1, 3, 1))\n",
    "lstm_predict = int(model.predict(x_input, verbose=0))\n",
    "lstm_predict"
   ]
  },
  {
   "cell_type": "code",
   "execution_count": 35,
   "metadata": {},
   "outputs": [
    {
     "data": {
      "text/plain": [
       "array([11350], dtype=int64)"
      ]
     },
     "execution_count": 35,
     "metadata": {},
     "output_type": "execute_result"
    }
   ],
   "source": [
    "arr_y_ans"
   ]
  },
  {
   "cell_type": "markdown",
   "metadata": {},
   "source": [
    "## 印出預測與實際結果之差異"
   ]
  },
  {
   "cell_type": "code",
   "execution_count": 36,
   "metadata": {},
   "outputs": [
    {
     "name": "stdout",
     "output_type": "stream",
     "text": [
      "ARIMA預測105年度的值為 :11490，真實105年度的值為 :11350\n",
      "LSTM預測105年度的值為  :11422，真實105年度的值為 :11350\n"
     ]
    }
   ],
   "source": [
    "print('ARIMA預測105年度的值為 :{}，真實105年度的值為 :{}'.format(int(arima_predict), int(arr_y_ans)))\n",
    "print('LSTM預測105年度的值為  :{}，真實105年度的值為 :{}'.format(lstm_predict, int(arr_y_ans)))"
   ]
  },
  {
   "cell_type": "code",
   "execution_count": 37,
   "metadata": {},
   "outputs": [
    {
     "name": "stdout",
     "output_type": "stream",
     "text": [
      "[11582 11558 11382 11454 11490]\n",
      "[11582 11558 11382 11454 11422]\n",
      "[11582 11558 11382 11454 11350]\n"
     ]
    }
   ],
   "source": [
    "ARIMA_pre_arr = np.append(arr_y[0:len(arr_y)-1], int(arima_predict))\n",
    "LSTM_pre_arr = np.append(arr_y[0:len(arr_y)-1], int(lstm_predict))\n",
    "REAL_arr = np.array(y)\n",
    "print(ARIMA_pre_arr)\n",
    "print(LSTM_pre_arr)\n",
    "print(REAL_arr)"
   ]
  },
  {
   "cell_type": "code",
   "execution_count": 38,
   "metadata": {},
   "outputs": [
    {
     "data": {
      "text/plain": [
       "array([101, 102, 103, 104, 105], dtype=int64)"
      ]
     },
     "execution_count": 38,
     "metadata": {},
     "output_type": "execute_result"
    }
   ],
   "source": [
    "np.array(studentDataNpustGroup['學年度'])"
   ]
  },
  {
   "cell_type": "code",
   "execution_count": 39,
   "metadata": {},
   "outputs": [
    {
     "data": {
      "text/plain": [
       "array(['101', '102', '103', '104', '105'], dtype='<U32')"
      ]
     },
     "execution_count": 39,
     "metadata": {},
     "output_type": "execute_result"
    }
   ],
   "source": [
    "years = []\n",
    "for i in np.array(studentDataNpustGroup['學年度']):\n",
    "    years = np.append(years, str(i))\n",
    "years"
   ]
  },
  {
   "cell_type": "code",
   "execution_count": 40,
   "metadata": {},
   "outputs": [
    {
     "data": {
      "image/png": "[encoded data removed]",
      "text/plain": [
       "<Figure size 432x288 with 1 Axes>"
      ]
     },
     "metadata": {
      "needs_background": "light"
     },
     "output_type": "display_data"
    }
   ],
   "source": [
    "plt.plot(years, ARIMA_pre_arr, 'r-', label='ARIMA預測值',marker = \"o\")\n",
    "plt.plot(years, LSTM_pre_arr, 'bs-', label='LSTM預測值',marker = \"o\")\n",
    "plt.plot(years, REAL_arr,      'g-', label='105學年實際值',marker = \"o\")\n",
    "\n",
    "plt.title(\"101-105學年度預測比較圖\") # title\n",
    "plt.ylabel(\"學生總人數\") # y label\n",
    "plt.xlabel(\"學年度\") # x label\n",
    "plt.legend()\n",
    "plt.show()"
   ]
  },
  {
   "cell_type": "markdown",
   "metadata": {},
   "source": [
    "![](校務資訊.PNG)"
   ]
  }
 ],
 "metadata": {
  "kernelspec": {
   "display_name": "Python 3",
   "language": "python",
   "name": "python3"
  },
  "language_info": {
   "codemirror_mode": {
    "name": "ipython",
    "version": 3
   },
   "file_extension": ".py",
   "mimetype": "text/x-python",
   "name": "python",
   "nbconvert_exporter": "python",
   "pygments_lexer": "ipython3",
   "version": "3.7.9"
  }
 },
 "nbformat": 4,
 "nbformat_minor": 4
}
