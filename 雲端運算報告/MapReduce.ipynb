{
 "cells": [
  {
   "cell_type": "code",
   "execution_count": 1,
   "metadata": {},
   "outputs": [],
   "source": [
    "from pymongo import MongoClient\n",
    "import math\n",
    "import random\n",
    "from bson.code import Code"
   ]
  },
  {
   "cell_type": "code",
   "execution_count": 2,
   "metadata": {},
   "outputs": [],
   "source": [
    "DB_Link = MongoClient('', 27017, username = '', password = '')"
   ]
  },
  {
   "cell_type": "code",
   "execution_count": 3,
   "metadata": {},
   "outputs": [],
   "source": [
    "# for i in range(10):\n",
    "#     rID=math.floor(random.random()*10); \n",
    "#     price = round(random.random()*10,2); \n",
    "#     if rID < 4:\n",
    "#         db.insert({\"_id\":i,\"user\":\"Joe\",\"product\":rID,\"price\":price}); \n",
    "#     elif rID>=4 and rID<7:\n",
    "#         db.insert({\"_id\":i,\"user\":\"Josh\",\"product\":rID,\"price\":price}); \n",
    "#     else:\n",
    "#         db.insert({\"_id\":i,\"user\":\"Ken\",\"product\":rID,\"price\":price});"
   ]
  },
  {
   "cell_type": "code",
   "execution_count": 4,
   "metadata": {},
   "outputs": [],
   "source": [
    "# mapper = Code(\"\"\"function (){emit(this.user,{count:1})}\"\"\")\n",
    "# reduce = Code(\"function (key, values) {\"\n",
    "#     \" var total = 0;\"\n",
    "#     \" for (var i = 0; i < values.length; i++) {\"\n",
    "#     \" total += values[i].count;\"\n",
    "#     \" }\"\n",
    "#     \" return {count:total};\"\n",
    "#     \"}\")\n",
    "\n",
    "# result=db.map_reduce(mapper,reduce,out ='myresults')\n",
    "\n",
    "# for doc in db.myresults.find():\n",
    "#     print(doc)"
   ]
  },
  {
   "cell_type": "code",
   "execution_count": 5,
   "metadata": {},
   "outputs": [],
   "source": [
    "#建立連結\n",
    "db_name = 'MapReduceDB'\n",
    "db = DB_Link.MapReduceDB[\"MapReduce\"]"
   ]
  },
  {
   "cell_type": "code",
   "execution_count": 6,
   "metadata": {},
   "outputs": [
    {
     "data": {
      "text/plain": [
       "<pymongo.results.InsertOneResult at 0x16c71521708>"
      ]
     },
     "execution_count": 6,
     "metadata": {},
     "output_type": "execute_result"
    }
   ],
   "source": [
    "db.insert_one({\"x\": 1, \"tags\": [\"fat\", \"cat\", \"dog\"]})\n",
    "db.insert_one({\"x\": 2, \"tags\": [\"cat\", \"dog\"]})\n",
    "db.insert_one({\"x\": 3, \"tags\": [\"fat\", \"mouse\"]})\n",
    "db.insert_one({\"x\": 3, \"tags\": [\"fat\", \"fish\"]})"
   ]
  },
  {
   "cell_type": "markdown",
   "metadata": {},
   "source": [
    "### map函數對數組中的每個標籤發出一個(key, 1)"
   ]
  },
  {
   "cell_type": "code",
   "execution_count": 7,
   "metadata": {},
   "outputs": [],
   "source": [
    "map = Code(\"function () {\"\n",
    "            \"  this.tags.forEach(function(z) {\"\n",
    "            \"    emit(z, 1);\"\n",
    "            \"  });\"\n",
    "            \"}\")"
   ]
  },
  {
   "cell_type": "markdown",
   "metadata": {},
   "source": [
    "### reduce階段將所有給定鍵發出值的總和function，reduce對其進行處理並生成最終輸出"
   ]
  },
  {
   "cell_type": "code",
   "execution_count": 8,
   "metadata": {},
   "outputs": [],
   "source": [
    "reduce = Code(\"function (key, values) {\"\n",
    "               \"  var total = 0;\"\n",
    "               \"  for (var i = 0; i < values.length; i++) {\"\n",
    "               \"    total += values[i];\"\n",
    "               \"  }\"\n",
    "               \"  return total;\"\n",
    "               \"}\")"
   ]
  },
  {
   "cell_type": "markdown",
   "metadata": {},
   "source": [
    "### 最後調用map_reduce()迭代結果集合"
   ]
  },
  {
   "cell_type": "code",
   "execution_count": 9,
   "metadata": {},
   "outputs": [
    {
     "name": "stdout",
     "output_type": "stream",
     "text": [
      "{'_id': 'dog', 'value': 2.0}\n",
      "{'_id': 'cat', 'value': 2.0}\n",
      "{'_id': 'fish', 'value': 1.0}\n",
      "{'_id': 'mouse', 'value': 1.0}\n",
      "{'_id': 'fat', 'value': 3.0}\n"
     ]
    }
   ],
   "source": [
    "result = db.map_reduce(map, reduce, \"myresults\")\n",
    "for doc in result.find():\n",
    "    print(doc)"
   ]
  },
  {
   "cell_type": "markdown",
   "metadata": {},
   "source": [
    "![](MapReduce.PNG)"
   ]
  }
 ],
 "metadata": {
  "kernelspec": {
   "display_name": "Python 3",
   "language": "python",
   "name": "python3"
  },
  "language_info": {
   "codemirror_mode": {
    "name": "ipython",
    "version": 3
   },
   "file_extension": ".py",
   "mimetype": "text/x-python",
   "name": "python",
   "nbconvert_exporter": "python",
   "pygments_lexer": "ipython3",
   "version": "3.7.9"
  }
 },
 "nbformat": 4,
 "nbformat_minor": 5
}
